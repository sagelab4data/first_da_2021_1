{
  "nbformat": 4,
  "nbformat_minor": 0,
  "metadata": {
    "kernelspec": {
      "display_name": "Python 3",
      "language": "python",
      "name": "python3"
    },
    "language_info": {
      "codemirror_mode": {
        "name": "ipython",
        "version": 3
      },
      "file_extension": ".py",
      "mimetype": "text/x-python",
      "name": "python",
      "nbconvert_exporter": "python",
      "pygments_lexer": "ipython3",
      "version": "3.8.3"
    },
    "colab": {
      "name": "Day08_MachineLearning_Iris_kNN.ipynb",
      "provenance": [],
      "collapsed_sections": []
    }
  },
  "cells": [
    {
      "cell_type": "markdown",
      "metadata": {
        "id": "zH9okMl9G66C"
      },
      "source": [
        "# Day2. 머신러닝 프로젝트 둘러보기\n",
        "## iris dataset 활용\n",
        "## 1. 문제 정의\n",
        "#### 붓꽃의 꽃잎과 꽃받침 크기 정보를 활용하여 붓꽃의 3종류로 나뉘고자 합니다\n"
      ]
    },
    {
      "cell_type": "markdown",
      "metadata": {
        "id": "OHASzWJVG_xv"
      },
      "source": [
        "## 2. 데이터 수집\n",
        "### Seaborn의 iris dataset을 가져오기"
      ]
    },
    {
      "cell_type": "code",
      "metadata": {
        "id": "ims-G3RnG66E"
      },
      "source": [
        "import matplotlib.pyplot as plt\n",
        "import numpy as np\n",
        "import pandas as pd\n",
        "import seaborn as sns"
      ],
      "execution_count": null,
      "outputs": []
    },
    {
      "cell_type": "code",
      "metadata": {
        "id": "oed5zi_ZG66F"
      },
      "source": [
        "iris = sns.load_dataset('iris')  # Iris dataset 가져오기\n",
        "iris"
      ],
      "execution_count": null,
      "outputs": []
    },
    {
      "cell_type": "markdown",
      "metadata": {
        "id": "2MFZtiVfG66G"
      },
      "source": [
        "## 3. 데이터 이해"
      ]
    },
    {
      "cell_type": "code",
      "metadata": {
        "id": "FWmIEFdBG66G"
      },
      "source": [
        "iris.keys() # iris dataset의 구성요소 확인"
      ],
      "execution_count": null,
      "outputs": []
    },
    {
      "cell_type": "code",
      "metadata": {
        "id": "UR27zSyXG66G"
      },
      "source": [
        "iris.describe() # iris dataset의 구성요소 확인"
      ],
      "execution_count": null,
      "outputs": []
    },
    {
      "cell_type": "markdown",
      "metadata": {
        "id": "6azp3G_hG66G"
      },
      "source": [
        "### 데이터 시각화"
      ]
    },
    {
      "cell_type": "code",
      "metadata": {
        "id": "OjBZgkyZG66H"
      },
      "source": [
        "sns.????(iris, hue=\"species\", ) # iris의 species를 제외한 컬럼들의 상관관계 비교\n",
        "plt.show()"
      ],
      "execution_count": null,
      "outputs": []
    },
    {
      "cell_type": "code",
      "metadata": {
        "id": "RuSXikWxG66H"
      },
      "source": [
        "# petal length를 x축으로 petal width를 y축으로 하는 그래프에서 label의 값으로 품종을 구분\n",
        "sns.pairplot(iris, x_vars=[\"petal_length\"], y_vars=[\"petal_width\"], hue=\"species\", height=5)\n",
        "plt.show()"
      ],
      "execution_count": null,
      "outputs": []
    },
    {
      "cell_type": "markdown",
      "metadata": {
        "id": "N3kTwZnkG66H"
      },
      "source": [
        "## 4. 데이터 준비"
      ]
    },
    {
      "cell_type": "code",
      "metadata": {
        "id": "0KSpTl_8G66I"
      },
      "source": [
        "# X 는 iris의 특성 값을 저장\n",
        "# y 는 품종에 해당하는 숫자 0,1,2\n",
        "X = iris[['sepal_length', 'sepal_width', 'petal_length', 'petal_width']]\n",
        "y = iris['species']\n",
        "print (X)\n",
        "print(y)"
      ],
      "execution_count": null,
      "outputs": []
    },
    {
      "cell_type": "code",
      "metadata": {
        "id": "_MjCpJmOG66I"
      },
      "source": [
        "# 학습 데이터 70%와 테스트 데이터 30%로 분리하여 X_train, X_test, y_train, y_test로 저장함\n",
        "from sklearn.model_selection import train_test_split\n",
        "\n",
        "X_train, X_test, y_train, y_test = ????(X, y, test_size=0.3, random_state=100)\n",
        "print(X_train.shape)   # X_train의 shape --> (105,4) 105개의 행과 4개의 열로 구성\n",
        "print(X_test.shape)    # X_test의 shape --> (45,4) 45개의 행과 4개의 열로 구성\n",
        "print(y_train.shape)   # y_train의 shape --> (105,) 105개로 구성\n",
        "print(y_test.shape)    # y_test의 shape --> (45,) 45개로 구성"
      ],
      "execution_count": null,
      "outputs": []
    },
    {
      "cell_type": "markdown",
      "metadata": {
        "id": "aXaxQ-JHG66I"
      },
      "source": [
        "## 5. 모델링"
      ]
    },
    {
      "cell_type": "code",
      "metadata": {
        "id": "12qL0OgoG66I"
      },
      "source": [
        "from sklearn.neighbors import KNeighborsClassifier #KNearest Neighbor\n",
        "\n",
        "kNN=KNeighborsClassifier(n_neighbors=5)   #k=5인 kNN 알고리즘을 활용해서 분리하겠다고 선언함 \n",
        "kNN.???(X_train, y_train)    #X_train,y_train 훈련데이터를 입력하여 KNN 모델을 생성함"
      ],
      "execution_count": null,
      "outputs": []
    },
    {
      "cell_type": "markdown",
      "metadata": {
        "id": "I12Bk4PLG66J"
      },
      "source": [
        "## 6.모델링 평가"
      ]
    },
    {
      "cell_type": "code",
      "metadata": {
        "id": "fxf1lfOtG66J"
      },
      "source": [
        "y_pred = kNN.predict(?????) # 훈련된 KNN에 X_test 값을 넣어 y_pred 즉, y값을 예측함"
      ],
      "execution_count": null,
      "outputs": []
    },
    {
      "cell_type": "code",
      "metadata": {
        "id": "9da-0RXcG66J"
      },
      "source": [
        "from sklearn.metrics import accuracy_score, confusion_matrix\n",
        "\n",
        "# 모델 학습 및 정확도 분석\n",
        "print(\"kNN's Accuracy is \", accuracy_score(y_test, y_pred)) # 실제 y값과 예측값 y의 정확도를 확인함"
      ],
      "execution_count": null,
      "outputs": []
    },
    {
      "cell_type": "code",
      "metadata": {
        "id": "zIzw1QSUG66J"
      },
      "source": [
        "cm = confusion_matrix (????, y_pred) # y_test값을 행으로 y_pred의 값을 열로 하여 예측치와 실제값이 차이를 확인 가능함\n",
        "cm"
      ],
      "execution_count": null,
      "outputs": []
    },
    {
      "cell_type": "code",
      "metadata": {
        "id": "nTwp5SIaG66J"
      },
      "source": [
        "species = ['setosa', 'versicolor', 'virginica']  # target 값 0,1,2 대신 품종이름을 명명하기 위함\n",
        "sns.heatmap(cm, cmap='Blues', annot=True, xticklabels= species, yticklabels=species) # heatmap으로 상관관계 분석\n",
        "plt.xlabel('y_pred') # x축의 데이터 이름\n",
        "plt.ylabel('y_test') # y축의 데이터 이름\n",
        "plt.show() # 가공된 heatmap 한번에 보여주기"
      ],
      "execution_count": null,
      "outputs": []
    }
  ]
}