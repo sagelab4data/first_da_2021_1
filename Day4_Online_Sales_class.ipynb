{
 "cells": [
  {
   "cell_type": "markdown",
   "metadata": {
    "id": "3h6qwGF_u3OD"
   },
   "source": [
    "# **사전준비 for colab**\n",
    "matplotlib 그래프 내 한글 글꼴 표시를 위한 설치 및 런타임 다시 시작과 폰트 설정 작업을 단계별로 수행한다."
   ]
  },
  {
   "cell_type": "markdown",
   "metadata": {
    "id": "i8XhVnL6u3Yx"
   },
   "source": [
    "## [1] 폰트 설치 (나눔글꼴) 및 폰트매니저 재구성"
   ]
  },
  {
   "cell_type": "code",
   "execution_count": null,
   "metadata": {
    "id": "kfLHqJ-uvK82"
   },
   "outputs": [],
   "source": [
    "####  없어도 됨 [폰트개수 확인용]\n",
    "# 시스템내 최초 설치된 폰트개수 확인 - 처음에는 기본 폰트만 설치됨\n",
    "\n",
    "import matplotlib.font_manager as fm  # 폰트 관련 용도\n",
    "sys_font=fm.findSystemFonts()\n",
    "print(f\"sys_font number: {len(sys_font)}\")\n",
    "\n",
    "nanum_font = [f for f in sys_font if 'Nanum' in f]\n",
    "print(f\"nanum_font number: {len(nanum_font)}\")"
   ]
  },
  {
   "cell_type": "code",
   "execution_count": null,
   "metadata": {
    "id": "bfUKh57cvLnO"
   },
   "outputs": [],
   "source": [
    "# 나눔고딕 폰트 설치\n",
    "\n",
    "!apt-get update -qq\n",
    "!apt-get install fonts-nanum* -qq"
   ]
  },
  {
   "cell_type": "code",
   "execution_count": null,
   "metadata": {
    "id": "5AZkr15uvLce"
   },
   "outputs": [],
   "source": [
    "####  없어도 됨 [폰트개수 확인용]\n",
    "# 설치 후  폰트 개수 확인,  늘어 난 것을 알 수 있다.\n",
    "\n",
    "import matplotlib.font_manager as fm  # 폰트 관련 용도\n",
    "sys_font=fm.findSystemFonts()\n",
    "print(f\"sys_font number: {len(sys_font)}\")\n",
    "\n",
    "nanum_font = [f for f in sys_font if 'Nanum' in f]\n",
    "print(f\"nanum_font number: {len(nanum_font)}\")"
   ]
  },
  {
   "cell_type": "code",
   "execution_count": null,
   "metadata": {
    "id": "8lj7JgT-vQca"
   },
   "outputs": [],
   "source": [
    "# 폰트 매니저 재설정을 위한 명령문 수행 : fm._rebuild()\n",
    "import matplotlib.font_manager as fm\n",
    "fm._rebuild()"
   ]
  },
  {
   "cell_type": "markdown",
   "metadata": {
    "id": "ybwrfwKou3lP"
   },
   "source": [
    "## [2] 폰트 인식을 위한  '런타임 다시시작'\n",
    "  - '런타임' - '런타임 다시 시작' \n",
    "  - 또는 'Ctrl-M'"
   ]
  },
  {
   "cell_type": "markdown",
   "metadata": {
    "id": "agiKm3AUvXnu"
   },
   "source": [
    "## [3] 런타임 재시작 이후 \n",
    "   - 폰트  설정 및 마이너스 부호 오류 처리\n",
    "   - **시작 이후에는 본 셀 이후 부터 실행한다.**"
   ]
  },
  {
   "cell_type": "code",
   "execution_count": null,
   "metadata": {
    "id": "a5CVOyQ5vXBw"
   },
   "outputs": [],
   "source": [
    "# 관련 라이브러리 임포트\n",
    "import matplotlib.font_manager as fm  # 폰트 관련 \n",
    "import matplotlib.pyplot as plt   # 그래프 내 설정\n",
    "import matplotlib as mpl  # 기본 설정 "
   ]
  },
  {
   "cell_type": "code",
   "execution_count": null,
   "metadata": {
    "id": "B40XJo98vVQC"
   },
   "outputs": [],
   "source": [
    "####  없어도 됨 [폰트개수 확인용]\n",
    "# 런타임 다시 시작 이후, 설치 된 폰트 개수가 증가 한 상태임을 알 수 있다. \n",
    "sys_font=fm.findSystemFonts()\n",
    "print(f\"sys_font number: {len(sys_font)}\")\n",
    "\n",
    "nanum_font = [f for f in sys_font if 'Nanum' in f]\n",
    "print(f\"nanum_font number: {len(nanum_font)}\")"
   ]
  },
  {
   "cell_type": "code",
   "execution_count": null,
   "metadata": {
    "id": "sIGVV-XEvc0T"
   },
   "outputs": [],
   "source": [
    "# 폰트의 경로를 통해 사용할 폰트 (나눔고딕)를 지정한다.\n",
    "path = '/usr/share/fonts/truetype/nanum/NanumGothic.ttf'  # 설치된 나눔글꼴중 사용할 폰트의 전체 경로를 가져오자\n",
    "font_name = fm.FontProperties(fname=path, size=10).get_name()\n",
    "print(font_name)\n",
    "plt.rc('font', family=font_name)\n",
    "# 마이너스 부호 처리에 오류가 있는 경우를 방지 하기 위한 설정\n",
    "mpl.rcParams['axes.unicode_minus'] = False"
   ]
  },
  {
   "cell_type": "markdown",
   "metadata": {
    "id": "WNcyzXcGvfZ4"
   },
   "source": [
    "# **분석 주요 라이브러리 임포트**"
   ]
  },
  {
   "cell_type": "code",
   "execution_count": 1,
   "metadata": {
    "id": "kh4EVu4ivoSC"
   },
   "outputs": [
    {
     "ename": "SyntaxError",
     "evalue": "invalid syntax (<ipython-input-1-7f50248dcd11>, line 2)",
     "output_type": "error",
     "traceback": [
      "\u001b[1;36m  File \u001b[1;32m\"<ipython-input-1-7f50248dcd11>\"\u001b[1;36m, line \u001b[1;32m2\u001b[0m\n\u001b[1;33m    import ****\u001b[0m\n\u001b[1;37m           ^\u001b[0m\n\u001b[1;31mSyntaxError\u001b[0m\u001b[1;31m:\u001b[0m invalid syntax\n"
     ]
    }
   ],
   "source": [
    "### 1번 코드\n",
    "import ****"
   ]
  },
  {
   "cell_type": "markdown",
   "metadata": {
    "id": "mVorUze0JSzy"
   },
   "source": [
    "# **3. 온라인 판매 데이터 분석**"
   ]
  },
  {
   "cell_type": "markdown",
   "metadata": {
    "id": "TDhXl4zIJXeM"
   },
   "source": [
    "## **3.1 문제정의**\n",
    "코로나로 인해서 온라인 판매가 증가 하였다고 한다. <br>\n",
    "     1.시기별: 코로나 이전과 이후 시기를 비교하여 온라인 판매가 증가하였는가?<br>\n",
    "     2.판매 매체별: 인터넷 쇼핑과 모바일 쇼핑 중 어떤 매체의 판매량이 더 증가하였는가?<br>\n",
    "     3.상품군별: 모든 상품의 판매가 증가한 것일까? (배달음식은 늘어났을 것 같은데, 콘서트 티켓은 줄었을 것 같다.)\n",
    "\n",
    "\n"
   ]
  },
  {
   "cell_type": "markdown",
   "metadata": {
    "id": "jJF43baEKlZE"
   },
   "source": [
    "## **3.2 데이터 수집**\n",
    "KOSIS 국가 통계 포털에서 '온라인쇼핑몰 판매매체별/상품군별거래액' 에서 데이터를 다운로드 받는다. \n",
    "* KOSIS는 데이터를 다운로드 받기 전에 형태를 수정 할 수 있다.  이를 활용하여 정돈된 데이터 형태로 변환 하여 다운로드 받는다. \n",
    "\n",
    "\n",
    "1.   불필요한 상품군별 **합계** /판매매체별 **계** 항목 제외\n",
    "2.   행렬 전환으로 컬럼 방향으로 펼쳐진 시간축을 행(인덱스 방향으로 변경)\n",
    "3.   데이터 수집 기간을 변경 (2017.1~2021.2)\n",
    "4.   엑셀에서 시점에 붙어 있는 '2021.02 p)' 의 'p)'의 처리\n",
    "   - 홈 - 찾기 및 선택 - 바꾸기 (또는 Ctrl - H) \n",
    "   - 찾을 내용:  p),  바꿀 내용 : *(공백)*  --> 모두 바꾸기 수행\n",
    "\n",
    "\n",
    "https://kosis.kr/statHtml/statHtml.do?orgId=101&tblId=DT_1KE10051&conn_path=I2"
   ]
  },
  {
   "cell_type": "markdown",
   "metadata": {
    "id": "ojNIlzERFML3"
   },
   "source": [
    "![온라인판매엑셀](https://github.com/sagelab4data/images/blob/main/online_excel.png?raw=true)"
   ]
  },
  {
   "cell_type": "code",
   "execution_count": null,
   "metadata": {
    "id": "vrt7upUjwQ4T"
   },
   "outputs": [],
   "source": [
    "# 3.2.1 KOSIS에서 정돈한 형태의 데이터를 읽어 들인다. \n",
    "online = pd.read_excel('https://github.com/sagelab4data/first_da_2021_1/blob/main/Day04_Online_Channel_Product_Sales.xlsx?raw=true')\n",
    "online.tail(10)"
   ]
  },
  {
   "cell_type": "markdown",
   "metadata": {
    "id": "ff9fY0Q_X03E"
   },
   "source": [
    "## **3.3 데이터 가공**\n"
   ]
  },
  {
   "cell_type": "markdown",
   "metadata": {
    "id": "Sr1BKFTnvqZl"
   },
   "source": [
    "**online 판매 데이터 항목 분석**\n",
    "- 판매연월 : 50개월\n",
    "    * 2017년 1월~ 2021년 2월  \n",
    "\n",
    "  - 판매 매체별 : 2개 채널\n",
    "    *   '모바일쇼핑', '인터넷쇼핑'\n",
    "  - 상품군별 : 23개 상품군\n",
    "    *  'e쿠폰서비스', '가구', '가방', '가전·전자·통신기기', '기타', '기타서비스',<br>\n",
    "       '농축수산물','문화 및 레저서비스', '사무·문구', '생활용품', '서적',<br> \n",
    "       '스포츠·레저용품', '신발', '아동·유아용품','애완용품', '여행 및 교통서비스', <br>\n",
    "       '음·식료품', '음식서비스', '의복', '자동차 및 자동차용품',<br>\n",
    "       '컴퓨터 및 주변기기', '패션용품 및 액세서리', '화장품'<br>\n",
    "  \n"
   ]
  },
  {
   "cell_type": "code",
   "execution_count": null,
   "metadata": {
    "id": "MiWl85hy1Lar"
   },
   "outputs": [],
   "source": [
    "# 3.3.1  online 데이터 형태의 확인\n",
    "### 2)번 코드\n",
    "****"
   ]
  },
  {
   "cell_type": "code",
   "execution_count": null,
   "metadata": {
    "id": "VL0FvSL8Gzea"
   },
   "outputs": [],
   "source": [
    "# 3.3.2 online  데이터의 자료형 확인\n",
    "### 3)번 코드\n",
    "****"
   ]
  },
  {
   "cell_type": "code",
   "execution_count": null,
   "metadata": {
    "id": "Vpo3EPF-1zR8"
   },
   "outputs": [],
   "source": [
    "# 3.3.3 시점 데이터(object)를 날짜형(datetime64)으로 변경\n",
    "### 4)번 코드\n",
    "****\n",
    "online.info()"
   ]
  },
  {
   "cell_type": "code",
   "execution_count": null,
   "metadata": {
    "id": "BzYIPDsjEI5N"
   },
   "outputs": [],
   "source": [
    "# 3.3.4 정돈된 데이터\n",
    "online.head(10)"
   ]
  },
  {
   "cell_type": "markdown",
   "metadata": {
    "id": "Ii3mT7TBHaIO"
   },
   "source": [
    "## **3.4 데이터 모델링 (분석) 및 시각화**\n",
    "\n",
    "\n",
    "\n",
    "1.   시점별 판매량 분석 및 시각화 ( online_by_time)\n",
    "2.   상품군별 시점별 판매량 분석 및 시각화 (online_by_time_prod)\n",
    "3.   매체별 시점별 판매량 분석 및 시각화 (online_by_time_channel)\n",
    "4.   상품군별 매체별 시점별 판매량 분석 및 시각화 (online_by_time_prod_channel)\n",
    "5.   상품군 별 매체분포 시각화\n"
   ]
  },
  {
   "cell_type": "markdown",
   "metadata": {
    "id": "rg_2JZb3catI"
   },
   "source": [
    "![온라인판매분석](https://github.com/sagelab4data/images/blob/main/HD02_day04_online_pivot.png?raw=true)"
   ]
  },
  {
   "cell_type": "code",
   "execution_count": null,
   "metadata": {},
   "outputs": [],
   "source": []
  },
  {
   "cell_type": "code",
   "execution_count": null,
   "metadata": {},
   "outputs": [],
   "source": []
  },
  {
   "cell_type": "markdown",
   "metadata": {
    "id": "Gqs61mH12lHk"
   },
   "source": [
    "### 3.4.1 시점별 판매량 분석"
   ]
  },
  {
   "cell_type": "markdown",
   "metadata": {
    "id": "zI7noJ0N9nM5"
   },
   "source": [
    "\n",
    "\n",
    "![온라인판매분석_1](https://github.com/sagelab4data/images/blob/main/HD02_day04_online_pivot1.png?raw=true)"
   ]
  },
  {
   "cell_type": "markdown",
   "metadata": {},
   "source": [
    "![image.png](https://github.com/sagelab4data/images/blob/main/HD02_day04_groupby.png?raw=true)"
   ]
  },
  {
   "cell_type": "code",
   "execution_count": null,
   "metadata": {
    "id": "mV9H0vfxdDF6"
   },
   "outputs": [],
   "source": [
    "# 3.4.1.1 '시점' 별로 '데이터'를 합산한다. \n",
    "#### 5번 코드)\n",
    "online_by_time = ****\n",
    "online_by_time.tail()"
   ]
  },
  {
   "cell_type": "code",
   "execution_count": null,
   "metadata": {
    "id": "Tx33JLy_fIba"
   },
   "outputs": [],
   "source": [
    "# 3.4.1.2 데이터 건수 확인 (2017.01~2021.02 : 12*4 + 1 = 50 행)\n",
    "#### 6번 코드)\n",
    "online_by_time.****"
   ]
  },
  {
   "cell_type": "code",
   "execution_count": null,
   "metadata": {
    "id": "KwwG_B38fSz_"
   },
   "outputs": [],
   "source": [
    "# 3.4.1.3 데이터 자료형 확인\n",
    "online_by_time.info()"
   ]
  },
  {
   "cell_type": "code",
   "execution_count": null,
   "metadata": {},
   "outputs": [],
   "source": [
    "online_by_time"
   ]
  },
  {
   "cell_type": "markdown",
   "metadata": {
    "id": "iSpkil-Zk7fn"
   },
   "source": [
    "### 3.4.1.1 시점별 판매량 시각화 (online_by_time)"
   ]
  },
  {
   "cell_type": "code",
   "execution_count": null,
   "metadata": {
    "id": "iSpkil-Zk7fn"
   },
   "outputs": [],
   "source": [
    "# 3.4.1.1 온라인 판매량 합계 추이를 꺾은선 그래프로 나타내고 관찰한다. \n",
    "#### 7)번 코드\n",
    "online_by_time.****(figsize=(12, 4))"
   ]
  },
  {
   "cell_type": "code",
   "execution_count": null,
   "metadata": {
    "id": "iSpkil-Zk7fn"
   },
   "outputs": [],
   "source": [
    "# 3.4.1.2 온라인 판매량 합계 추이에 연도별 세로 선을 그어 주기를 관찰해보자.\n",
    "online_by_time.plot(kind = 'line', figsize = (12,4));\n",
    "\n",
    "# 연도를 표현하는 세로선의 위치 지정\n",
    "x18 = np.datetime64('2018-01-01') \n",
    "x19 = np.datetime64('2019-01-01')\n",
    "x20 = np.datetime64('2020-01-01')\n",
    "x21 = np.datetime64('2021-01-01')\n",
    "\n",
    "# 세로선의 하단과 상단 지정 (최소 최대값)\n",
    "ymin = online_by_time.min()\n",
    "ymax = online_by_time.max()\n",
    "\n",
    "# 4 개의 세로선 긋기\n",
    "plt.vlines(x = [x18, x19, x20, x21], ymin = ymin, ymax= ymax, color = 'gray', linestyle = '--');"
   ]
  },
  {
   "cell_type": "markdown",
   "metadata": {
    "id": "iSpkil-Zk7fn"
   },
   "source": [
    "* 증가 추세가 관찰 되기는 하나, 2017~2019년 대비 급격하게 증가하는 느낌을 받지는 못한다. "
   ]
  },
  {
   "cell_type": "markdown",
   "metadata": {
    "id": "w4q1CM3M2ztR"
   },
   "source": [
    "## 3.4.2 매체별 시점별 판매량 분석\n",
    "\n",
    "\n",
    "\n",
    "![온라인판매분석_3](https://github.com/sagelab4data/images/blob/main/HD02_day04_online_pivot2.png?raw=true)"
   ]
  },
  {
   "cell_type": "markdown",
   "metadata": {
    "id": "Fks_K6oFCA0N"
   },
   "source": [
    "#### [] 피봇테이블 : 데이터 집계 수행\n",
    "\n",
    "\n",
    "```\n",
    "데이터프레임. pivot_table(index = ‘행으로 만들 컬럼’, \n",
    "                         columns = ＇열방향으로 만들 컬럼’,\n",
    "                         values= ＇집계할 값’ 컬럼,\n",
    "                         aggfunc = ‘집계함수’)\n",
    "```\n",
    "\n",
    "\n",
    "\n",
    "![피봇테이블](https://github.com/sagelab4data/images/blob/main/pivot_table.png?raw=true)"
   ]
  },
  {
   "cell_type": "code",
   "execution_count": null,
   "metadata": {
    "id": "w4q1CM3M2ztR"
   },
   "outputs": [],
   "source": [
    "# 3.4.2.1 판매매체별 시점별로 피봇 테이블을 구성\n",
    "#### 8번 코드)\n",
    "online_by_time_channel = online.pivot_table(index = '****', \n",
    "                                            columns = '****', \n",
    "                                            values = '****', \n",
    "                                            aggfunc = '****')\n",
    "online_by_time_channel.tail()"
   ]
  },
  {
   "cell_type": "code",
   "execution_count": null,
   "metadata": {
    "id": "w4q1CM3M2ztR"
   },
   "outputs": [],
   "source": [
    "# 3.4.2.2 데이터 건수 확인 ( 50행 x 2열 (판매매체 개수))\n",
    "##### 9번 코드\n",
    "online_by_time_channel.****"
   ]
  },
  {
   "cell_type": "code",
   "execution_count": null,
   "metadata": {
    "id": "w4q1CM3M2ztR"
   },
   "outputs": [],
   "source": [
    "# 3.4.2.3 데이터 자료형 확인\n",
    "online_by_time_channel.Info()"
   ]
  },
  {
   "cell_type": "markdown",
   "metadata": {
    "id": "w4q1CM3M2ztR"
   },
   "source": [
    "### 3.4.2.1 매체별 시점별 판매량 시각화 (online_by_time_channel)"
   ]
  },
  {
   "cell_type": "code",
   "execution_count": null,
   "metadata": {
    "id": "w4q1CM3M2ztR"
   },
   "outputs": [],
   "source": [
    "# 3.4.2.1 판매매체별 온라인 판매량 합계 추이에 연도별 세로 선을 그어 주기를 관찰해보자.\n",
    "\n",
    "# 판매매체별 색상\n",
    "channel_colors = [ 'red', 'blue']\n",
    "##### 10번 코드)\n",
    "online_by_time_channel.****(kind = 'line', figsize = (12,4), color = channel_colors);\n",
    "# 세로선의 하단과 상단 지정 (최소 최대값)\n",
    "ymin = online_by_time_channel.min().min()\n",
    "ymax = online_by_time_channel.max().max()\n",
    "\n",
    "# 3 개의 가로선 긋기\n",
    "plt.vlines(x = [x18, x19, x20, x21], ymin = ymin, ymax= ymax, color = 'gray', linestyle = '--');"
   ]
  },
  {
   "cell_type": "markdown",
   "metadata": {
    "id": "w4q1CM3M2ztR"
   },
   "source": [
    "* 모바일 쇼핑과 인터넷 쇼핑이 주기 (등락:오르고 내리고) 관점에서 비슷하게 나타나지만, 모바일 쇼핑이 보다 빠르게 성장하고 있는 것으로 보인다. "
   ]
  },
  {
   "cell_type": "code",
   "execution_count": null,
   "metadata": {},
   "outputs": [],
   "source": []
  },
  {
   "cell_type": "markdown",
   "metadata": {
    "id": "gJUj4fKn2oOj"
   },
   "source": [
    "### 3.4.3 상품군별 시점별 판매량 분석"
   ]
  },
  {
   "cell_type": "markdown",
   "metadata": {
    "id": "yVhSNVYqcy0Y"
   },
   "source": [
    "\n",
    "\n",
    "![온라인판매분석_2](https://github.com/sagelab4data/images/blob/main/HD02_day04_online_pivot3.png?raw=true)"
   ]
  },
  {
   "cell_type": "code",
   "execution_count": null,
   "metadata": {
    "id": "3Zm_1qgy9xhp"
   },
   "outputs": [],
   "source": [
    "# 3.4.3.1 상품군별 시점별로 피봇 테이블을 구성\n",
    "##### 11번 코드)\n",
    "online_by_time_prod = online.pivot_table(index = '****',\n",
    "                                         columns = '****',\n",
    "                                         values = '****', \n",
    "                                         aggfunc = '****')\n",
    "online_by_time_prod.head()"
   ]
  },
  {
   "cell_type": "code",
   "execution_count": null,
   "metadata": {
    "id": "vHNNyMblhhgc"
   },
   "outputs": [],
   "source": [
    "# 3.4.3.2 데이터 건수 확인 ( 50행 x 23열 (상품군 개수))\n",
    "online_by_time_prod.shape"
   ]
  },
  {
   "cell_type": "code",
   "execution_count": null,
   "metadata": {
    "id": "KJLmrePWh0AX"
   },
   "outputs": [],
   "source": [
    "# 3.4.3.3 데이터 자료형 확인\n",
    "online_by_time_prod.info()"
   ]
  },
  {
   "cell_type": "markdown",
   "metadata": {
    "id": "1J40cF8jlHyO"
   },
   "source": [
    "### 3.4.3.1 상품군별 시점별 판매량 시각화 (online_by_time_prod)"
   ]
  },
  {
   "cell_type": "code",
   "execution_count": null,
   "metadata": {
    "id": "1J40cF8jlHyO"
   },
   "outputs": [],
   "source": [
    "# 3.4.3.1 상품군별로 시각화하기에 앞서, 색상을 지정해 둔다.\n",
    "\n",
    "# 상품군별 색상\n",
    "prod_colors = ['yellow', 'greenyellow', 'yellowgreen','darkslategray','limegreen',\n",
    "               'lime', 'forestgreen','darkgreen', 'darkcyan','darkblue',\n",
    "               'teal', 'blue','mediumblue','olivedrab','purple',\n",
    "                'darkkhaki','tan', 'maroon', 'orange','crimson',\n",
    "               'sienna', 'tomato', 'darksalmon']\n",
    "\n",
    "# 판매매체별 색상\n",
    "channel_colors = [ 'red', 'blue']\n",
    "\n",
    "# 3.4.3.2 온라인 판매량의 추이를 꺾은선 그래프로 나타내고 관찰한다. \n",
    "\n",
    "##### 12)번 코드\n",
    "online_by_time_prod.****(**** = 'line', figsize = (12,4), \n",
    "                         color = prod_colors) # color = prod_colors 로 색상지정\n",
    "plt.legend(loc='center left', bbox_to_anchor=(1, 0.5))  # 범례 위치 조정\n",
    "\n",
    "\n",
    "# 연도가 바뀌는 위치에서 3개의 세로선을 긋는다. (X변수는 재지정 할 필요 없음)\n",
    "# 세로선의 하단과 상단 지정 (최소 최대값)\n",
    "ymin = online_by_time_prod.min().min()\n",
    "ymax = online_by_time_prod.max().max()\n",
    "\n",
    "# 3 개의 가로선 긋기\n",
    "plt.vlines(x = [x18, x19, x20, x21], ymin = ymin, ymax= ymax, color = 'gray', linestyle = '--');"
   ]
  },
  {
   "cell_type": "markdown",
   "metadata": {
    "id": "1J40cF8jlHyO"
   },
   "source": [
    "* 뚝 떨어지는 올리브색 (여행 및 교통 서비스) 을 비롯하여 저조해지는 상품군이 관찰되고\n",
    "* 베이지색의 상승 되는 모습이 보이지만\n",
    "* 전체적으로 엉켜서 현상이 잘 관찰 되지 않는다. "
   ]
  },
  {
   "cell_type": "markdown",
   "metadata": {
    "id": "1J40cF8jlHyO"
   },
   "source": [
    "#### [] for 문 연습"
   ]
  },
  {
   "cell_type": "markdown",
   "metadata": {
    "id": "1J40cF8jlHyO"
   },
   "source": [
    "```\n",
    "# 목록의 값을 차례로 변수로 받아 실행한다. \n",
    "for 변수 in 목록 : \n",
    "    실행문1\n",
    "    실행문2\n",
    "```\n",
    "\n",
    "```\n",
    "# 숫자 1,2,3 목록에서 차례로 a 의 값이 변하여 전달 되고 그 값이 출력된다. \n",
    "for a in [1,2,3] : \n",
    "    print (a)\n",
    "    print (a*a)\n",
    "```\n",
    "\n",
    "\n",
    "```\n",
    "# enumerate는 목록의 항목값과 함께, 순차적인 번호를 부여한다. \n",
    "for i, v in enumerate (['a','b','c']):\n",
    "    print ( n, v)\n",
    "\n",
    "```"
   ]
  },
  {
   "cell_type": "code",
   "execution_count": null,
   "metadata": {
    "id": "1J40cF8jlHyO"
   },
   "outputs": [],
   "source": [
    "# 3.4.3.3.1 for문 연습1\n",
    "# 숫자 1,2,3 목록에서 차례로 a 의 값이 변하여 전달 되고 그 값이 출력된다.\n",
    "##### 13)번 코드\n",
    "****\n",
    "    print(a)\n",
    "    print(a*a)"
   ]
  },
  {
   "cell_type": "code",
   "execution_count": null,
   "metadata": {
    "id": "1J40cF8jlHyO"
   },
   "outputs": [],
   "source": [
    "# 3.4.3.3.2 for문 연습2\n",
    "# enumerate는 목록의 항목값과 함께, 순차적인 번호를 부여한다. \n",
    "for i, v in enumerate (['a','b','c']):\n",
    "    print ( i, v)"
   ]
  },
  {
   "cell_type": "code",
   "execution_count": null,
   "metadata": {
    "id": "1J40cF8jlHyO"
   },
   "outputs": [],
   "source": [
    "# 3.4.3.3.3 for문 연습 3 - 차트 그릴 때 사용할 for 문\n",
    "for i, col in enumerate (online_by_time_prod.columns) :\n",
    "    print (i,col)"
   ]
  },
  {
   "cell_type": "code",
   "execution_count": null,
   "metadata": {
    "id": "1J40cF8jlHyO"
   },
   "outputs": [],
   "source": [
    "# 3.4.3.4  서브플롯을 이용해서 각각의 상품군별로 추이를 살펴보자\n",
    "\n",
    "# 23개의 상품군별이므로 12행 2열 24개의 그래프 생성\n",
    "##### 14)번 코드\n",
    "fig, ax = plt.****(12 ,2 , figsize = (16, 25))\n",
    "plt.subplots_adjust(hspace=0.7) # 그래프 간 세로 여백을 좁게 조정\n",
    "\n",
    "# 24개의 ax 를 순차적으로 작성하기 위해 for 문을 사용하여 반복 한다.\n",
    "axe = ax.flat # 24개의 ax를 한 줄로 세우기\n",
    "for i, col in enumerate (online_by_time_prod.columns) :\n",
    "    online_by_time_prod[col].plot(ax = axe[i], title = str(i+1) + '.'+ col, color = prod_colors[i])\n",
    "    axe[i].xaxis.label.set_visible(False) # x 축이름 숨기기\n",
    "\n",
    "    # 세로선 긋기 위한 상한/하한 지정 및 선 긋기\n",
    "    ymin = online_by_time_prod[col].min()\n",
    "    ymax = online_by_time_prod[col].max()\n",
    "    axe[i].vlines(x = [x18, x19, x20, x21], ymin = ymin, ymax= ymax, color = 'gray', linestyle = '--')\n",
    "\n",
    "plt.show()"
   ]
  },
  {
   "cell_type": "markdown",
   "metadata": {
    "id": "1J40cF8jlHyO"
   },
   "source": [
    "*   상품군별 판매 동향 추이\n",
    "  - Q1. 코로나 이후 급격하게 성장한 제품군은? - 컴퓨터, e쿠폰\n",
    "  - Q2. 코로나로 인하여 제품 판매가 현저하게 줄어든 제품군은? - 문화 및 레저, 여행, 패션용품 액세서리,화장품\n",
    "  - Q3. 원래 부터 성장세였던 제품군은?\n",
    "  - Q4. 계절성이 있는 제품군은?\n",
    "  - Q5. 21.컴퓨터 및 주변 기기에 판매동향에 대해서 해석해보라.\n",
    "  - Q6. 14.아동유아용품, 19.의복 과 22.패션용품 및 액세서리 에서 나타나는 현상의 공통점과 차이점을 논해보라"
   ]
  },
  {
   "cell_type": "code",
   "execution_count": null,
   "metadata": {},
   "outputs": [],
   "source": []
  },
  {
   "cell_type": "code",
   "execution_count": null,
   "metadata": {},
   "outputs": [],
   "source": []
  },
  {
   "cell_type": "markdown",
   "metadata": {
    "id": "ShTlEHxU23xq"
   },
   "source": [
    "### 3.4.4 상품군별 시점별 판매량 분석"
   ]
  },
  {
   "cell_type": "markdown",
   "metadata": {
    "id": "ReZBkwtXiNRc"
   },
   "source": [
    "\n",
    "\n",
    "![온라인판매분석_4](https://github.com/sagelab4data/images/blob/main/HD02_day04_online_pivot4.png?raw=true)"
   ]
  },
  {
   "cell_type": "code",
   "execution_count": null,
   "metadata": {
    "id": "ghiSzGDOiNRf"
   },
   "outputs": [],
   "source": [
    "# 3.4.4.1 상품군별 시점별로 피봇 테이블을 구성\n",
    "##### 15번 코드\n",
    "online_by_time_prod_channel = online.pivot_table(index = '****', \n",
    "                                                 columns = ['****','****' ], \n",
    "                                                 values = '****', aggfunc = '****')\n",
    "online_by_time_prod_channel.tail()"
   ]
  },
  {
   "cell_type": "code",
   "execution_count": null,
   "metadata": {
    "id": "DbUzO0APiNRq"
   },
   "outputs": [],
   "source": [
    "# 3.4.4.2 데이터 건수 확인 ( 50행 x 46열 (상품군 23 * 매체 2))\n",
    "online_by_time_prod_channel.shape"
   ]
  },
  {
   "cell_type": "code",
   "execution_count": null,
   "metadata": {
    "id": "rox-aNYviNRu"
   },
   "outputs": [],
   "source": [
    "# 3.4.4.3 데이터 자료형 확인\n",
    "online_by_time_prod_channel.info()"
   ]
  },
  {
   "cell_type": "code",
   "execution_count": null,
   "metadata": {
    "id": "RojovE8F8yyg"
   },
   "outputs": [],
   "source": [
    "# 3.4.4.4 pivot 을 이용해서도 동일하게 생성할 수 있다. (중복되는 행이 없어서)\n",
    "online.pivot(index = '시점', \n",
    "             columns = ['상품군별','판매매체별' ], \n",
    "             values = '데이터')"
   ]
  },
  {
   "cell_type": "markdown",
   "metadata": {
    "id": "2Dtd2oehlH5I"
   },
   "source": [
    "### 3.4.4.1   상품군별 매체별 시점별 판매량 시각화 (online_by_time_prod_channel)"
   ]
  },
  {
   "cell_type": "code",
   "execution_count": null,
   "metadata": {
    "id": "QlfpqMAi6q1Z"
   },
   "outputs": [],
   "source": [
    "online_by_time_prod_channel.columns.levels[0]"
   ]
  },
  {
   "cell_type": "code",
   "execution_count": null,
   "metadata": {
    "id": "JUra9TxTiEx5"
   },
   "outputs": [],
   "source": [
    "# 3.4.4.1  서브플롯을 이용해서 각각의 상품군별로 추이를 ㅎ살펴보자\n",
    "\n",
    "# 23개의 상품군별이므로 12행 2열 24개의 그래프 생성\n",
    "#### 16번 코드\n",
    "fig, ax = plt.****(12 ,2 , figsize = (16, 25))\n",
    "plt.subplots_adjust(hspace=0.7) # 그래프 간 세로 여백을 좁게 조정\n",
    "\n",
    "# 24개의 ax 를 순차적으로 작성하기 위해 for 문을 사용하여 반복 한다.\n",
    "axe = ax.flat # 24개의 ax를 한 줄로 세우기\n",
    "for i, col in enumerate (online_by_time_prod_channel.columns.levels[0]) :\n",
    "    online_by_time_prod_channel[col].plot(ax = axe[i], title = str(i+1) + '.'+ col, color = channel_colors)\n",
    "    axe[i].xaxis.label.set_visible(False) # x 축이름 숨기기\n",
    "\n",
    "    # 세로선 긋기 위한 상한/하한 지정 및 선 긋기\n",
    "    ymin = min(online_by_time_prod_channel[col].min())\n",
    "    ymax = max(online_by_time_prod_channel[col].max())\n",
    "    axe[i].vlines(x = [x18, x19, x20, x21], ymin = ymin, ymax= ymax, color = 'gray', linestyle = '--')\n",
    "\n",
    "plt.show()"
   ]
  },
  {
   "cell_type": "code",
   "execution_count": null,
   "metadata": {},
   "outputs": [],
   "source": [
    "# 파란색 : 인터넷 쇼핑 > 모바일 쇼핑 : 사무문구, 서적, 여행, 컴퓨터\n",
    "# 이유(특징) : 검색할 정보가 많은 분야, 고관여 제품, 사무용품(대량 구매자, 다품종 구매자- 학교, 사무실)"
   ]
  },
  {
   "cell_type": "code",
   "execution_count": null,
   "metadata": {},
   "outputs": [],
   "source": []
  },
  {
   "cell_type": "markdown",
   "metadata": {
    "id": "W_ZytUNzLLER"
   },
   "source": [
    "### 3.4.5 상품군 별 매체분포\n",
    "상품군과 매체만의 관계를 살펴보자"
   ]
  },
  {
   "cell_type": "code",
   "execution_count": null,
   "metadata": {
    "id": "DBsGU_v_33Vp"
   },
   "outputs": [],
   "source": [
    "# 3.4.5.1  상품군별 매체분포를  원 그래프로 작성해보자\n",
    "\n",
    "# 데이터를 상품군별 매체별로 집계\n",
    "\n",
    "online_by_channel_prod = online.pivot_table(index = '판매매체별', columns = '상품군별',\n",
    "                                            values = '데이터', aggfunc= 'sum')"
   ]
  },
  {
   "cell_type": "code",
   "execution_count": null,
   "metadata": {
    "id": "DBsGU_v_33Vp"
   },
   "outputs": [],
   "source": [
    "# 23개의 상품군별이므로 5행 5열 25개의 그래프 생성\n",
    "fig, ax = plt.subplots(5 ,5 , figsize = (16, 16))\n",
    "plt.subplots_adjust(hspace=0.7) # 그래프 간 세로 여백을 좁게 조정\n",
    "\n",
    "\n",
    "# 25개의 ax 를 순차적으로 작성하기 위해 for 문을 사용하여 반복 한다.\n",
    "axe = ax.flat # 24개의 ax를 한 줄로 세우기\n",
    "for i, col in enumerate (online_by_channel_prod.columns) :\n",
    "    online_by_channel_prod[col].plot.pie( ax = axe[i], \n",
    "                                         y=col, \n",
    "                                         title = str(i+1) + '.'+ col,\n",
    "                                         colors = channel_colors,\n",
    "                                         ylabel = \"\")\n",
    "    \n",
    "\n",
    "    \n",
    "plt.show()"
   ]
  },
  {
   "cell_type": "markdown",
   "metadata": {
    "id": "ykqHUqrTLuV8"
   },
   "source": [
    "* 대체로 모바일 쇼핑의 비중이 크다.\n",
    "* 상대적으로 인터넷 쇼핑이 큰 종목을 골라서 그 이유를 생각해보자"
   ]
  },
  {
   "cell_type": "code",
   "execution_count": null,
   "metadata": {
    "id": "SkuQvhqzHl6a"
   },
   "outputs": [],
   "source": [
    "# 3.4.5.2  매체별 상품군 분포를 원 그래프를 작성해보자\n",
    "\n",
    "# 데이터를 상품군별 매체별로 집계\n",
    "\n",
    "online_by_prod_channel = online.pivot_table(index = '상품군별', columns = '판매매체별', values = '데이터', aggfunc= 'sum')"
   ]
  },
  {
   "cell_type": "code",
   "execution_count": null,
   "metadata": {
    "id": "SkuQvhqzHl6a"
   },
   "outputs": [],
   "source": [
    "# 2개의 매체별이므로 2 열 2개의 그래프 생성\n",
    "fig, ax = plt.subplots(1 ,2 , figsize = (12, 6))\n",
    "\n",
    "\n",
    "for i, col in enumerate (online_by_prod_channel.columns) :\n",
    "    online_by_prod_channel[col].plot.pie( ax = ax[i], \n",
    "                                         y=col, \n",
    "                                         title = str(i+1) + '.'+ col,\n",
    "                                         colors = prod_colors,\n",
    "                                         ylabel = \"\")"
   ]
  },
  {
   "cell_type": "markdown",
   "metadata": {
    "id": "Jncvzoq6MAM-"
   },
   "source": [
    "모바일에서 음식 서비스의 비중이 인터넷 대비 큰 것을 확인 할 수 있다.  "
   ]
  }
 ],
 "metadata": {
  "colab": {
   "authorship_tag": "ABX9TyNgNRLpqmxUNHb5mecyICRt",
   "collapsed_sections": [
    "2OjCipibu3By",
    "i8XhVnL6u3Yx",
    "agiKm3AUvXnu"
   ],
   "name": "Day4_Online_Sales_class.ipynb",
   "provenance": [
    {
     "file_id": "1g3c6Ma-zGvxxV49zt9pvOxZ9r_Sop1rg",
     "timestamp": 1605230816194
    },
    {
     "file_id": "1l6Rdr_C_67E6dF4JNpEIdM21YQyaHsOS",
     "timestamp": 1605230535184
    }
   ],
   "toc_visible": true
  },
  "kernelspec": {
   "display_name": "Python 3",
   "language": "python",
   "name": "python3"
  },
  "language_info": {
   "codemirror_mode": {
    "name": "ipython",
    "version": 3
   },
   "file_extension": ".py",
   "mimetype": "text/x-python",
   "name": "python",
   "nbconvert_exporter": "python",
   "pygments_lexer": "ipython3",
   "version": "3.8.5"
  }
 },
 "nbformat": 4,
 "nbformat_minor": 1
}
