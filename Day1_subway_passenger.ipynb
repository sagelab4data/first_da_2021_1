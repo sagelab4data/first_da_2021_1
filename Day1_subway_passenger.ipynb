{
 "cells": [
  {
   "cell_type": "markdown",
   "metadata": {
    "id": "xrC_srDQOANS"
   },
   "source": [
    "# **사전준비 for colab**\n",
    "matplotlib 그래프 내 한글 글꼴 표시를 위한 설치 및 런타임 다시 시작과 폰트 설정 작업을 단계별로 수행한다."
   ]
  },
  {
   "cell_type": "markdown",
   "metadata": {
    "id": "o6q_PvNLRlYb"
   },
   "source": [
    "## [1] 폰트 설치 (나눔글꼴) 및 폰트매니저 재구성"
   ]
  },
  {
   "cell_type": "code",
   "execution_count": null,
   "metadata": {
    "colab": {
     "base_uri": "https://localhost:8080/"
    },
    "executionInfo": {
     "elapsed": 1391,
     "status": "ok",
     "timestamp": 1616810134376,
     "user": {
      "displayName": "",
      "photoUrl": "",
      "userId": ""
     },
     "user_tz": -540
    },
    "id": "aSvO05pf6hVJ",
    "outputId": "9d9b658f-b68f-4903-8d3a-58c16c1f9d88"
   },
   "outputs": [],
   "source": [
    "####  없어도 됨 [폰트개수 확인용]\n",
    "# 시스템내 최초 설치된 폰트개수 확인 - 처음에는 기본 폰트만 설치됨\n",
    "\n",
    "import matplotlib.font_manager as fm  # 폰트 관련 용도\n",
    "sys_font=fm.findSystemFonts()\n",
    "print(f\"sys_font number: {len(sys_font)}\")\n",
    "\n",
    "nanum_font = [f for f in sys_font if 'Nanum' in f]\n",
    "print(f\"nanum_font number: {len(nanum_font)}\")"
   ]
  },
  {
   "cell_type": "code",
   "execution_count": null,
   "metadata": {
    "colab": {
     "base_uri": "https://localhost:8080/"
    },
    "executionInfo": {
     "elapsed": 19071,
     "status": "ok",
     "timestamp": 1616810152065,
     "user": {
      "displayName": "",
      "photoUrl": "",
      "userId": ""
     },
     "user_tz": -540
    },
    "id": "uOjYIs0z1tlk",
    "outputId": "961bc214-a858-4c6d-e6d3-d5cb3c62cb0d"
   },
   "outputs": [],
   "source": [
    "# 나눔고디 폰트 설치\n",
    "\n",
    "!apt-get update -qq\n",
    "!apt-get install fonts-nanum* -qq"
   ]
  },
  {
   "cell_type": "code",
   "execution_count": null,
   "metadata": {
    "colab": {
     "base_uri": "https://localhost:8080/"
    },
    "executionInfo": {
     "elapsed": 19066,
     "status": "ok",
     "timestamp": 1616810152066,
     "user": {
      "displayName": "",
      "photoUrl": "",
      "userId": ""
     },
     "user_tz": -540
    },
    "id": "75RhE6T65dLY",
    "outputId": "be296242-e6ec-4611-ee2f-ff3c2c732f85"
   },
   "outputs": [],
   "source": [
    "####  없어도 됨 [폰트개수 확인용]\n",
    "# 설치 후  폰트 개수 확인,  늘어 난 것을 알 수 있다.\n",
    "\n",
    "import matplotlib.font_manager as fm  # 폰트 관련 용도\n",
    "sys_font=fm.findSystemFonts()\n",
    "print(f\"sys_font number: {len(sys_font)}\")\n",
    "\n",
    "nanum_font = [f for f in sys_font if 'Nanum' in f]\n",
    "print(f\"nanum_font number: {len(nanum_font)}\")"
   ]
  },
  {
   "cell_type": "code",
   "execution_count": null,
   "metadata": {
    "id": "CzB6468q5k30"
   },
   "outputs": [],
   "source": [
    "# 폰트 매니저 재설정을 위한 명령문 수행 : fm._rebuild()\n",
    "import matplotlib.font_manager as fm\n",
    "fm._rebuild()"
   ]
  },
  {
   "cell_type": "markdown",
   "metadata": {
    "id": "lu95TR3H2cCk"
   },
   "source": [
    "## [2] 폰트 인식을 위한  '런타임 다시시작'\n",
    "  - '런타임' - '런타임 다시 시작' \n",
    "  - 또는 'Ctrl-M'\n"
   ]
  },
  {
   "cell_type": "markdown",
   "metadata": {
    "id": "40hDBn0xR3FT"
   },
   "source": [
    "## [3] 런타임 재시작 이후 \n",
    "   - 폰트  설정 및 마이너스 부호 오류 처리\n",
    "   - **시작 이후에는 본 셀 이후 부터 실행한다.**"
   ]
  },
  {
   "cell_type": "code",
   "execution_count": null,
   "metadata": {
    "id": "eN1C4PjLOANs"
   },
   "outputs": [],
   "source": [
    "# 관련 라이브러리 임포트\n",
    "import matplotlib.font_manager as fm  # 폰트 관련 \n",
    "import matplotlib.pyplot as plt   # 그래프 내 설정\n",
    "import matplotlib as mpl  # 기본 설정 \n"
   ]
  },
  {
   "cell_type": "code",
   "execution_count": null,
   "metadata": {
    "colab": {
     "base_uri": "https://localhost:8080/"
    },
    "executionInfo": {
     "elapsed": 1339,
     "status": "ok",
     "timestamp": 1616810162851,
     "user": {
      "displayName": "",
      "photoUrl": "",
      "userId": ""
     },
     "user_tz": -540
    },
    "id": "K7XvkPSp2HTL",
    "outputId": "0911d368-f257-4a52-a37c-3bf354b05e12"
   },
   "outputs": [],
   "source": [
    "####  없어도 됨 [폰트개수 확인용]\n",
    "# 런타임 다시 시작 이후, 설치 된 폰트 개수가 증가 한 상태임을 알 수 있다. \n",
    "sys_font=fm.findSystemFonts()\n",
    "print(f\"sys_font number: {len(sys_font)}\")\n",
    "\n",
    "nanum_font = [f for f in sys_font if 'Nanum' in f]\n",
    "print(f\"nanum_font number: {len(nanum_font)}\")"
   ]
  },
  {
   "cell_type": "code",
   "execution_count": null,
   "metadata": {
    "colab": {
     "base_uri": "https://localhost:8080/"
    },
    "executionInfo": {
     "elapsed": 1336,
     "status": "ok",
     "timestamp": 1616810162853,
     "user": {
      "displayName": "",
      "photoUrl": "",
      "userId": ""
     },
     "user_tz": -540
    },
    "id": "MSvFSxZcOAN0",
    "outputId": "2fefa963-a533-4d69-fdf9-81f99b0e5ed6"
   },
   "outputs": [],
   "source": [
    "# 폰트의 경로를 통해 사용할 폰트 (나눔고딕)를 지정한다.\n",
    "path = '/usr/share/fonts/truetype/nanum/NanumGothic.ttf'  # 설치된 나눔글꼴중 사용할 폰트의 전체 경로를 가져오자\n",
    "font_name = fm.FontProperties(fname=path, size=10).get_name()\n",
    "print(font_name)\n",
    "plt.rc('font', family=font_name)\n",
    "# 마이너스 부호 처리에 오류가 있는 경우를 방지 하기 위한 설정\n",
    "mpl.rcParams['axes.unicode_minus'] = False  "
   ]
  },
  {
   "cell_type": "markdown",
   "metadata": {
    "id": "GE0w2jyF4ayH"
   },
   "source": [
    "# **지하철 탑승객 분석**\n",
    "- 파일 읽기\n",
    "- 데이터 보이기\n",
    "- 노선별 집계 및 그래프\n",
    "- 사용일자 별 집계 및 그래프"
   ]
  },
  {
   "cell_type": "markdown",
   "metadata": {
    "id": "D1B2w2SkTWvg"
   },
   "source": [
    "## 1.주요 라이브러리 읽어들이기"
   ]
  },
  {
   "cell_type": "code",
   "execution_count": null,
   "metadata": {
    "id": "amzl3IXcOAOI"
   },
   "outputs": [],
   "source": [
    "# 데이터 분석을 위해 필요한 프로그램이 정의된 라이브러리 모듈을 읽어들입니다. \n",
    "import pandas as pd\n",
    "import matplotlib.pyplot as plt\n",
    "%matplotlib inline"
   ]
  },
  {
   "cell_type": "markdown",
   "metadata": {
    "id": "Jm1mL6Ltcx_K"
   },
   "source": [
    "## 2.파일 읽고 데이터 보이기"
   ]
  },
  {
   "cell_type": "code",
   "execution_count": null,
   "metadata": {
    "colab": {
     "base_uri": "https://localhost:8080/",
     "height": 419
    },
    "executionInfo": {
     "elapsed": 1158,
     "status": "ok",
     "timestamp": 1616810171932,
     "user": {
      "displayName": "",
      "photoUrl": "",
      "userId": ""
     },
     "user_tz": -540
    },
    "id": "0PcIIrX5OoGi",
    "outputId": "30178b9c-c415-4d8c-d724-6c52ee568447"
   },
   "outputs": [],
   "source": [
    "# 데이터를 읽어 들여서 출력해 봅니다.\n",
    "url = 'https://github.com/sagelab4data/first_da_2021_1/blob/main/CARD_SUBWAY_MONTH_202102.csv?raw=true'\n",
    "subway = pd.read_csv('https://github.com/sagelab4data/first_da_2021_1/blob/main/CARD_SUBWAY_MONTH_202102.csv?raw=true',\n",
    "                     engine = \"python\", index_col = False,\n",
    "                    parse_dates=['사용일자', '등록일자'])\n",
    "subway"
   ]
  },
  {
   "cell_type": "markdown",
   "metadata": {
    "id": "g46OijScTc8d"
   },
   "source": [
    "## 3.노선별 집계 및 그래프"
   ]
  },
  {
   "cell_type": "code",
   "execution_count": null,
   "metadata": {},
   "outputs": [],
   "source": [
    "# 노선별 집계하고 그래프를 그려봅니다. \n",
    "line_sum = subway.pivot_table(values = ['승차총승객수','하차총승객수'], index = ['노선명'], aggfunc='sum')\n",
    "line_sum"
   ]
  },
  {
   "cell_type": "code",
   "execution_count": null,
   "metadata": {
    "colab": {
     "base_uri": "https://localhost:8080/",
     "height": 344
    },
    "executionInfo": {
     "elapsed": 1213,
     "status": "ok",
     "timestamp": 1616810185183,
     "user": {
      "displayName": "",
      "photoUrl": "",
      "userId": ""
     },
     "user_tz": -540
    },
    "id": "qsQTp19HQRBf",
    "outputId": "eac0ca48-56ac-43e2-b888-cd55eeed831e"
   },
   "outputs": [],
   "source": [
    "subway.pivot_table(values = ['승차총승객수','하차총승객수'], index = ['노선명'], aggfunc='sum').plot(kind = 'bar', stacked = True);"
   ]
  },
  {
   "cell_type": "markdown",
   "metadata": {
    "id": "eupteZfQTjPx"
   },
   "source": [
    "## 4.사용일자별 집계 및 그래프"
   ]
  },
  {
   "cell_type": "code",
   "execution_count": null,
   "metadata": {
    "colab": {
     "base_uri": "https://localhost:8080/",
     "height": 948
    },
    "executionInfo": {
     "elapsed": 739,
     "status": "ok",
     "timestamp": 1616810187800,
     "user": {
      "displayName": "",
      "photoUrl": "",
      "userId": ""
     },
     "user_tz": -540
    },
    "id": "bwPvEoWlQbSO",
    "outputId": "43412918-2283-4e1f-8141-4dbf29b8ea35"
   },
   "outputs": [],
   "source": [
    "# 사용일자별 탑승자수 집계 및 그래프 \n",
    "day_sum = subway.pivot_table(values = ['승차총승객수','하차총승객수'], index = ['사용일자'], aggfunc='sum')\n",
    "day_sum\n"
   ]
  },
  {
   "cell_type": "code",
   "execution_count": null,
   "metadata": {
    "colab": {
     "base_uri": "https://localhost:8080/",
     "height": 309
    },
    "executionInfo": {
     "elapsed": 1244,
     "status": "ok",
     "timestamp": 1616810191894,
     "user": {
      "displayName": "",
      "photoUrl": "",
      "userId": ""
     },
     "user_tz": -540
    },
    "id": "wUlScHOoSwb2",
    "outputId": "14c7df80-5afd-4b41-838e-f90dc458deed"
   },
   "outputs": [],
   "source": [
    "subway.pivot_table(values = ['승차총승객수','하차총승객수'], index = ['사용일자'], aggfunc='sum').plot(kind = 'line');"
   ]
  }
 ],
 "metadata": {
  "colab": {
   "collapsed_sections": [
    "o6q_PvNLRlYb",
    "40hDBn0xR3FT"
   ],
   "name": "Day1_subway_passenger.ipynb",
   "provenance": [
    {
     "file_id": "https://github.com/sagelab4data/first_da_2021_1/blob/main/Day1_subway_passenger.ipynb",
     "timestamp": 1616810216753
    },
    {
     "file_id": "https://github.com/sagelab4data/first_da_2021_1/blob/main/Day1_subway_passenger.ipynb",
     "timestamp": 1616421349700
    }
   ],
   "toc_visible": true
  },
  "kernelspec": {
   "display_name": "Python 3",
   "language": "python",
   "name": "python3"
  },
  "language_info": {
   "codemirror_mode": {
    "name": "ipython",
    "version": 3
   },
   "file_extension": ".py",
   "mimetype": "text/x-python",
   "name": "python",
   "nbconvert_exporter": "python",
   "pygments_lexer": "ipython3",
   "version": "3.7.6"
  }
 },
 "nbformat": 4,
 "nbformat_minor": 1
}
