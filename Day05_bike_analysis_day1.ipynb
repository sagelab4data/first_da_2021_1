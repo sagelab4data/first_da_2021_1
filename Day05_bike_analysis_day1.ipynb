{
 "cells": [
  {
   "cell_type": "markdown",
   "metadata": {
    "id": "dso_wwW8Dgxs"
   },
   "source": [
    "# 자전거 파일 분석\n",
    "\n",
    "서울특별시 공공자전거 대여이력 정보 2019년 6월\n",
    "\n",
    "서울특별시 공공자전거 대여정보_201906_1.csv\n",
    "\n",
    "서울특별시 공공자전거 대여정보_201906_2.csv\n",
    "\n",
    "서울특별시 공공자전거 대여정보_201906_3.csv"
   ]
  },
  {
   "cell_type": "markdown",
   "metadata": {
    "id": "PCd0wmIiJjBc"
   },
   "source": [
    "# **사전준비 for colab**\n",
    "matplotlib 그래프 내 한글 글꼴 표시를 위한 설치 및 런타임 다시 시작과 폰트 설정 작업을 단계별로 수행한다."
   ]
  },
  {
   "cell_type": "markdown",
   "metadata": {
    "id": "n6JaljnNJirc"
   },
   "source": []
  },
  {
   "cell_type": "markdown",
   "metadata": {
    "id": "vb4vrrr7JiTc"
   },
   "source": [
    "## [1] 폰트 설치 (나눔글꼴) 및 폰트매니저 재구성"
   ]
  },
  {
   "cell_type": "code",
   "execution_count": null,
   "metadata": {
    "colab": {
     "base_uri": "https://localhost:8080/"
    },
    "executionInfo": {
     "elapsed": 867,
     "status": "ok",
     "timestamp": 1620545261598,
     "user": {
      "displayName": "강형주",
      "photoUrl": "https://lh3.googleusercontent.com/a-/AOh14Gio_vb4wFXEbly2-bxLdO794yMb4y9zAxlZ3rlWa33hNwQQ9lW8HxxINXj3YppsQSzDssmoXuWxMT4kbNfm-kP9VJmDH-z_24vC5WPaH22tj9-arErotarZe8bKZFRHdFJqSGUvQq0uU9ULb3xXhUaI4SwNUpVZjaL2QneDfwHvj93sD2tE6J7xQ3sIBiCHQD_zvW2GTKkcyA3-vIggfiKOrdlJUTr63QzYhzBxKklfGnGvgg1YGGuS7WAd8QoRMLad14v1rAIwQS-O9CvU4M5ANqUGUUsTXiygCS9D9zs70SCnb7Kcba-5a0ERSaZ87h90wEyR0Bl2QsK3YP9Z8yXiovwbZHvCFvJbWO_xCGNlMxcQ28iDK1J4bbX-1biYYar8zed7LZa1xGN9dQlFSo7hHKgV1b5MIo3Y0E7P0YtLC_0z1zJHXYeSBC8G1JvDVx5pN04cKcZKL0orLmLVxFk_zvILyPHpbEudwT9axJmUq0NJ4trWrm-TNVUgxu_I_hWPcNSV71dUwYDBh2jlDFdLKm7en6PHkdbc9-TEOvel55_Fgf_CL0mAIu-U5D1ZdBRvw37C5m-FhFY1Su6nbwC3GuvbWlkiujJzVTNuFd5-_-dkZnBHHH8oxh7YtwKBRZcrF1qM8FqU51ZnEFc2bJ-TK_H99e46D0JB28_rM9qYH9tQZyYGszJIlXuzkYKyVTocbiRAzIwbSHxSqBvj9PDe-Pj3Km_Bnxfvw86HVYeZVSu7tNrYFzkVzhkGNhDixattmQ=s64",
      "userId": "16418805035519449193"
     },
     "user_tz": -540
    },
    "id": "6-r0I9GXJ0Qk",
    "outputId": "60f350bf-8625-4e9f-d291-72c69106cc6c"
   },
   "outputs": [],
   "source": [
    "####  없어도 됨 [폰트개수 확인용]\n",
    "# 시스템내 최초 설치된 폰트개수 확인 - 처음에는 기본 폰트만 설치됨\n",
    "\n",
    "import matplotlib.font_manager as fm  # 폰트 관련 용도\n",
    "sys_font=fm.findSystemFonts()\n",
    "print(f\"sys_font number: {len(sys_font)}\")\n",
    "\n",
    "nanum_font = [f for f in sys_font if 'Nanum' in f]\n",
    "print(f\"nanum_font number: {len(nanum_font)}\")"
   ]
  },
  {
   "cell_type": "code",
   "execution_count": null,
   "metadata": {
    "colab": {
     "base_uri": "https://localhost:8080/"
    },
    "executionInfo": {
     "elapsed": 20340,
     "status": "ok",
     "timestamp": 1620545281077,
     "user": {
      "displayName": "강형주",
      "photoUrl": "https://lh3.googleusercontent.com/a-/AOh14Gio_vb4wFXEbly2-bxLdO794yMb4y9zAxlZ3rlWa33hNwQQ9lW8HxxINXj3YppsQSzDssmoXuWxMT4kbNfm-kP9VJmDH-z_24vC5WPaH22tj9-arErotarZe8bKZFRHdFJqSGUvQq0uU9ULb3xXhUaI4SwNUpVZjaL2QneDfwHvj93sD2tE6J7xQ3sIBiCHQD_zvW2GTKkcyA3-vIggfiKOrdlJUTr63QzYhzBxKklfGnGvgg1YGGuS7WAd8QoRMLad14v1rAIwQS-O9CvU4M5ANqUGUUsTXiygCS9D9zs70SCnb7Kcba-5a0ERSaZ87h90wEyR0Bl2QsK3YP9Z8yXiovwbZHvCFvJbWO_xCGNlMxcQ28iDK1J4bbX-1biYYar8zed7LZa1xGN9dQlFSo7hHKgV1b5MIo3Y0E7P0YtLC_0z1zJHXYeSBC8G1JvDVx5pN04cKcZKL0orLmLVxFk_zvILyPHpbEudwT9axJmUq0NJ4trWrm-TNVUgxu_I_hWPcNSV71dUwYDBh2jlDFdLKm7en6PHkdbc9-TEOvel55_Fgf_CL0mAIu-U5D1ZdBRvw37C5m-FhFY1Su6nbwC3GuvbWlkiujJzVTNuFd5-_-dkZnBHHH8oxh7YtwKBRZcrF1qM8FqU51ZnEFc2bJ-TK_H99e46D0JB28_rM9qYH9tQZyYGszJIlXuzkYKyVTocbiRAzIwbSHxSqBvj9PDe-Pj3Km_Bnxfvw86HVYeZVSu7tNrYFzkVzhkGNhDixattmQ=s64",
      "userId": "16418805035519449193"
     },
     "user_tz": -540
    },
    "id": "nYPbQlrSJ9tU",
    "outputId": "3ed061e9-450b-472e-8a00-11d6ad6347a3"
   },
   "outputs": [],
   "source": [
    "# 나눔고디 폰트 설치\n",
    "\n",
    "!apt-get update -qq\n",
    "!apt-get install fonts-nanum* -qq"
   ]
  },
  {
   "cell_type": "code",
   "execution_count": null,
   "metadata": {
    "colab": {
     "base_uri": "https://localhost:8080/"
    },
    "executionInfo": {
     "elapsed": 20337,
     "status": "ok",
     "timestamp": 1620545281078,
     "user": {
      "displayName": "강형주",
      "photoUrl": "https://lh3.googleusercontent.com/a-/AOh14Gio_vb4wFXEbly2-bxLdO794yMb4y9zAxlZ3rlWa33hNwQQ9lW8HxxINXj3YppsQSzDssmoXuWxMT4kbNfm-kP9VJmDH-z_24vC5WPaH22tj9-arErotarZe8bKZFRHdFJqSGUvQq0uU9ULb3xXhUaI4SwNUpVZjaL2QneDfwHvj93sD2tE6J7xQ3sIBiCHQD_zvW2GTKkcyA3-vIggfiKOrdlJUTr63QzYhzBxKklfGnGvgg1YGGuS7WAd8QoRMLad14v1rAIwQS-O9CvU4M5ANqUGUUsTXiygCS9D9zs70SCnb7Kcba-5a0ERSaZ87h90wEyR0Bl2QsK3YP9Z8yXiovwbZHvCFvJbWO_xCGNlMxcQ28iDK1J4bbX-1biYYar8zed7LZa1xGN9dQlFSo7hHKgV1b5MIo3Y0E7P0YtLC_0z1zJHXYeSBC8G1JvDVx5pN04cKcZKL0orLmLVxFk_zvILyPHpbEudwT9axJmUq0NJ4trWrm-TNVUgxu_I_hWPcNSV71dUwYDBh2jlDFdLKm7en6PHkdbc9-TEOvel55_Fgf_CL0mAIu-U5D1ZdBRvw37C5m-FhFY1Su6nbwC3GuvbWlkiujJzVTNuFd5-_-dkZnBHHH8oxh7YtwKBRZcrF1qM8FqU51ZnEFc2bJ-TK_H99e46D0JB28_rM9qYH9tQZyYGszJIlXuzkYKyVTocbiRAzIwbSHxSqBvj9PDe-Pj3Km_Bnxfvw86HVYeZVSu7tNrYFzkVzhkGNhDixattmQ=s64",
      "userId": "16418805035519449193"
     },
     "user_tz": -540
    },
    "id": "lUZ9ghA7KD5s",
    "outputId": "20c58961-8105-498e-9447-97cb7731598e"
   },
   "outputs": [],
   "source": [
    "####  없어도 됨 [폰트개수 확인용]\n",
    "# 설치 후  폰트 개수 확인,  늘어 난 것을 알 수 있다.\n",
    "\n",
    "import matplotlib.font_manager as fm  # 폰트 관련 용도\n",
    "sys_font=fm.findSystemFonts()\n",
    "print(f\"sys_font number: {len(sys_font)}\")\n",
    "\n",
    "nanum_font = [f for f in sys_font if 'Nanum' in f]\n",
    "print(f\"nanum_font number: {len(nanum_font)}\")"
   ]
  },
  {
   "cell_type": "code",
   "execution_count": null,
   "metadata": {
    "executionInfo": {
     "elapsed": 20677,
     "status": "ok",
     "timestamp": 1620545281419,
     "user": {
      "displayName": "강형주",
      "photoUrl": "https://lh3.googleusercontent.com/a-/AOh14Gio_vb4wFXEbly2-bxLdO794yMb4y9zAxlZ3rlWa33hNwQQ9lW8HxxINXj3YppsQSzDssmoXuWxMT4kbNfm-kP9VJmDH-z_24vC5WPaH22tj9-arErotarZe8bKZFRHdFJqSGUvQq0uU9ULb3xXhUaI4SwNUpVZjaL2QneDfwHvj93sD2tE6J7xQ3sIBiCHQD_zvW2GTKkcyA3-vIggfiKOrdlJUTr63QzYhzBxKklfGnGvgg1YGGuS7WAd8QoRMLad14v1rAIwQS-O9CvU4M5ANqUGUUsTXiygCS9D9zs70SCnb7Kcba-5a0ERSaZ87h90wEyR0Bl2QsK3YP9Z8yXiovwbZHvCFvJbWO_xCGNlMxcQ28iDK1J4bbX-1biYYar8zed7LZa1xGN9dQlFSo7hHKgV1b5MIo3Y0E7P0YtLC_0z1zJHXYeSBC8G1JvDVx5pN04cKcZKL0orLmLVxFk_zvILyPHpbEudwT9axJmUq0NJ4trWrm-TNVUgxu_I_hWPcNSV71dUwYDBh2jlDFdLKm7en6PHkdbc9-TEOvel55_Fgf_CL0mAIu-U5D1ZdBRvw37C5m-FhFY1Su6nbwC3GuvbWlkiujJzVTNuFd5-_-dkZnBHHH8oxh7YtwKBRZcrF1qM8FqU51ZnEFc2bJ-TK_H99e46D0JB28_rM9qYH9tQZyYGszJIlXuzkYKyVTocbiRAzIwbSHxSqBvj9PDe-Pj3Km_Bnxfvw86HVYeZVSu7tNrYFzkVzhkGNhDixattmQ=s64",
      "userId": "16418805035519449193"
     },
     "user_tz": -540
    },
    "id": "N_PgQZF2KJLE"
   },
   "outputs": [],
   "source": [
    "# 폰트 매니저 재설정을 위한 명령문 수행 : fm._rebuild()\n",
    "import matplotlib.font_manager as fm\n",
    "fm._rebuild()"
   ]
  },
  {
   "cell_type": "markdown",
   "metadata": {
    "id": "aHSou4B3KUgv"
   },
   "source": [
    "## [2] 폰트 인식을 위한  '런타임 다시시작'\n",
    "  - '런타임' - '런타임 다시 시작' \n",
    "  - 또는 'Ctrl-M'\n"
   ]
  },
  {
   "cell_type": "markdown",
   "metadata": {
    "id": "5csM5pXYKhik"
   },
   "source": [
    "## [3] 런타임 재시작 이후 \n",
    "   - 폰트  설정 및 마이너스 부호 오류 처리\n",
    "   - **시작 이후에는 본 셀 이후 부터 실행한다.**"
   ]
  },
  {
   "cell_type": "code",
   "execution_count": null,
   "metadata": {
    "executionInfo": {
     "elapsed": 415,
     "status": "ok",
     "timestamp": 1620545299871,
     "user": {
      "displayName": "강형주",
      "photoUrl": "https://lh3.googleusercontent.com/a-/AOh14Gio_vb4wFXEbly2-bxLdO794yMb4y9zAxlZ3rlWa33hNwQQ9lW8HxxINXj3YppsQSzDssmoXuWxMT4kbNfm-kP9VJmDH-z_24vC5WPaH22tj9-arErotarZe8bKZFRHdFJqSGUvQq0uU9ULb3xXhUaI4SwNUpVZjaL2QneDfwHvj93sD2tE6J7xQ3sIBiCHQD_zvW2GTKkcyA3-vIggfiKOrdlJUTr63QzYhzBxKklfGnGvgg1YGGuS7WAd8QoRMLad14v1rAIwQS-O9CvU4M5ANqUGUUsTXiygCS9D9zs70SCnb7Kcba-5a0ERSaZ87h90wEyR0Bl2QsK3YP9Z8yXiovwbZHvCFvJbWO_xCGNlMxcQ28iDK1J4bbX-1biYYar8zed7LZa1xGN9dQlFSo7hHKgV1b5MIo3Y0E7P0YtLC_0z1zJHXYeSBC8G1JvDVx5pN04cKcZKL0orLmLVxFk_zvILyPHpbEudwT9axJmUq0NJ4trWrm-TNVUgxu_I_hWPcNSV71dUwYDBh2jlDFdLKm7en6PHkdbc9-TEOvel55_Fgf_CL0mAIu-U5D1ZdBRvw37C5m-FhFY1Su6nbwC3GuvbWlkiujJzVTNuFd5-_-dkZnBHHH8oxh7YtwKBRZcrF1qM8FqU51ZnEFc2bJ-TK_H99e46D0JB28_rM9qYH9tQZyYGszJIlXuzkYKyVTocbiRAzIwbSHxSqBvj9PDe-Pj3Km_Bnxfvw86HVYeZVSu7tNrYFzkVzhkGNhDixattmQ=s64",
      "userId": "16418805035519449193"
     },
     "user_tz": -540
    },
    "id": "ZOkAGzTkKPsE"
   },
   "outputs": [],
   "source": [
    "# 관련 라이브러리 임포트\n",
    "import matplotlib.font_manager as fm  # 폰트 관련 \n",
    "import matplotlib.pyplot as plt   # 그래프 내 설정\n",
    "import matplotlib as mpl  # 기본 설정 "
   ]
  },
  {
   "cell_type": "code",
   "execution_count": null,
   "metadata": {
    "colab": {
     "base_uri": "https://localhost:8080/"
    },
    "executionInfo": {
     "elapsed": 753,
     "status": "ok",
     "timestamp": 1620545300215,
     "user": {
      "displayName": "강형주",
      "photoUrl": "https://lh3.googleusercontent.com/a-/AOh14Gio_vb4wFXEbly2-bxLdO794yMb4y9zAxlZ3rlWa33hNwQQ9lW8HxxINXj3YppsQSzDssmoXuWxMT4kbNfm-kP9VJmDH-z_24vC5WPaH22tj9-arErotarZe8bKZFRHdFJqSGUvQq0uU9ULb3xXhUaI4SwNUpVZjaL2QneDfwHvj93sD2tE6J7xQ3sIBiCHQD_zvW2GTKkcyA3-vIggfiKOrdlJUTr63QzYhzBxKklfGnGvgg1YGGuS7WAd8QoRMLad14v1rAIwQS-O9CvU4M5ANqUGUUsTXiygCS9D9zs70SCnb7Kcba-5a0ERSaZ87h90wEyR0Bl2QsK3YP9Z8yXiovwbZHvCFvJbWO_xCGNlMxcQ28iDK1J4bbX-1biYYar8zed7LZa1xGN9dQlFSo7hHKgV1b5MIo3Y0E7P0YtLC_0z1zJHXYeSBC8G1JvDVx5pN04cKcZKL0orLmLVxFk_zvILyPHpbEudwT9axJmUq0NJ4trWrm-TNVUgxu_I_hWPcNSV71dUwYDBh2jlDFdLKm7en6PHkdbc9-TEOvel55_Fgf_CL0mAIu-U5D1ZdBRvw37C5m-FhFY1Su6nbwC3GuvbWlkiujJzVTNuFd5-_-dkZnBHHH8oxh7YtwKBRZcrF1qM8FqU51ZnEFc2bJ-TK_H99e46D0JB28_rM9qYH9tQZyYGszJIlXuzkYKyVTocbiRAzIwbSHxSqBvj9PDe-Pj3Km_Bnxfvw86HVYeZVSu7tNrYFzkVzhkGNhDixattmQ=s64",
      "userId": "16418805035519449193"
     },
     "user_tz": -540
    },
    "id": "ECWokFg3KoJk",
    "outputId": "3ddac24f-e08c-4418-ff63-5e1982e7248e"
   },
   "outputs": [],
   "source": [
    "####  없어도 됨 [폰트개수 확인용]\n",
    "# 런타임 다시 시작 이후, 설치 된 폰트 개수가 증가 한 상태임을 알 수 있다. \n",
    "sys_font=fm.findSystemFonts()\n",
    "print(f\"sys_font number: {len(sys_font)}\")\n",
    "\n",
    "nanum_font = [f for f in sys_font if 'Nanum' in f]\n",
    "print(f\"nanum_font number: {len(nanum_font)}\")"
   ]
  },
  {
   "cell_type": "code",
   "execution_count": null,
   "metadata": {
    "colab": {
     "base_uri": "https://localhost:8080/"
    },
    "executionInfo": {
     "elapsed": 750,
     "status": "ok",
     "timestamp": 1620545300215,
     "user": {
      "displayName": "강형주",
      "photoUrl": "https://lh3.googleusercontent.com/a-/AOh14Gio_vb4wFXEbly2-bxLdO794yMb4y9zAxlZ3rlWa33hNwQQ9lW8HxxINXj3YppsQSzDssmoXuWxMT4kbNfm-kP9VJmDH-z_24vC5WPaH22tj9-arErotarZe8bKZFRHdFJqSGUvQq0uU9ULb3xXhUaI4SwNUpVZjaL2QneDfwHvj93sD2tE6J7xQ3sIBiCHQD_zvW2GTKkcyA3-vIggfiKOrdlJUTr63QzYhzBxKklfGnGvgg1YGGuS7WAd8QoRMLad14v1rAIwQS-O9CvU4M5ANqUGUUsTXiygCS9D9zs70SCnb7Kcba-5a0ERSaZ87h90wEyR0Bl2QsK3YP9Z8yXiovwbZHvCFvJbWO_xCGNlMxcQ28iDK1J4bbX-1biYYar8zed7LZa1xGN9dQlFSo7hHKgV1b5MIo3Y0E7P0YtLC_0z1zJHXYeSBC8G1JvDVx5pN04cKcZKL0orLmLVxFk_zvILyPHpbEudwT9axJmUq0NJ4trWrm-TNVUgxu_I_hWPcNSV71dUwYDBh2jlDFdLKm7en6PHkdbc9-TEOvel55_Fgf_CL0mAIu-U5D1ZdBRvw37C5m-FhFY1Su6nbwC3GuvbWlkiujJzVTNuFd5-_-dkZnBHHH8oxh7YtwKBRZcrF1qM8FqU51ZnEFc2bJ-TK_H99e46D0JB28_rM9qYH9tQZyYGszJIlXuzkYKyVTocbiRAzIwbSHxSqBvj9PDe-Pj3Km_Bnxfvw86HVYeZVSu7tNrYFzkVzhkGNhDixattmQ=s64",
      "userId": "16418805035519449193"
     },
     "user_tz": -540
    },
    "id": "__xhMYDxKtk0",
    "outputId": "9c397d2f-6f8a-4d1a-d40e-bb90646393bc"
   },
   "outputs": [],
   "source": [
    "# 폰트의 경로를 통해 사용할 폰트 (나눔고딕)를 지정한다.\n",
    "path = '/usr/share/fonts/truetype/nanum/NanumGothic.ttf'  # 설치된 나눔글꼴중 사용할 폰트의 전체 경로를 가져오자\n",
    "font_name = fm.FontProperties(fname=path, size=10).get_name()\n",
    "print(font_name)\n",
    "plt.rc('font', family=font_name)\n",
    "# 마이너스 부호 처리에 오류가 있는 경우를 방지 하기 위한 설정\n",
    "mpl.rcParams['axes.unicode_minus'] = False  "
   ]
  },
  {
   "cell_type": "markdown",
   "metadata": {
    "id": "t6-scyVfDgx1"
   },
   "source": [
    "# 1. 데이터 수집 및 라이브러리 임포트"
   ]
  },
  {
   "cell_type": "code",
   "execution_count": null,
   "metadata": {
    "executionInfo": {
     "elapsed": 711,
     "status": "ok",
     "timestamp": 1620545320410,
     "user": {
      "displayName": "강형주",
      "photoUrl": "https://lh3.googleusercontent.com/a-/AOh14Gio_vb4wFXEbly2-bxLdO794yMb4y9zAxlZ3rlWa33hNwQQ9lW8HxxINXj3YppsQSzDssmoXuWxMT4kbNfm-kP9VJmDH-z_24vC5WPaH22tj9-arErotarZe8bKZFRHdFJqSGUvQq0uU9ULb3xXhUaI4SwNUpVZjaL2QneDfwHvj93sD2tE6J7xQ3sIBiCHQD_zvW2GTKkcyA3-vIggfiKOrdlJUTr63QzYhzBxKklfGnGvgg1YGGuS7WAd8QoRMLad14v1rAIwQS-O9CvU4M5ANqUGUUsTXiygCS9D9zs70SCnb7Kcba-5a0ERSaZ87h90wEyR0Bl2QsK3YP9Z8yXiovwbZHvCFvJbWO_xCGNlMxcQ28iDK1J4bbX-1biYYar8zed7LZa1xGN9dQlFSo7hHKgV1b5MIo3Y0E7P0YtLC_0z1zJHXYeSBC8G1JvDVx5pN04cKcZKL0orLmLVxFk_zvILyPHpbEudwT9axJmUq0NJ4trWrm-TNVUgxu_I_hWPcNSV71dUwYDBh2jlDFdLKm7en6PHkdbc9-TEOvel55_Fgf_CL0mAIu-U5D1ZdBRvw37C5m-FhFY1Su6nbwC3GuvbWlkiujJzVTNuFd5-_-dkZnBHHH8oxh7YtwKBRZcrF1qM8FqU51ZnEFc2bJ-TK_H99e46D0JB28_rM9qYH9tQZyYGszJIlXuzkYKyVTocbiRAzIwbSHxSqBvj9PDe-Pj3Km_Bnxfvw86HVYeZVSu7tNrYFzkVzhkGNhDixattmQ=s64",
      "userId": "16418805035519449193"
     },
     "user_tz": -540
    },
    "id": "RhGZUeUwDgx1"
   },
   "outputs": [],
   "source": [
    "import pandas as pd\n",
    "\n",
    "pd.options.display.float_format = '{:.2f}'.format"
   ]
  },
  {
   "cell_type": "markdown",
   "metadata": {
    "id": "v8nfA06IDgx2"
   },
   "source": [
    "# 2. 데이터 가공"
   ]
  },
  {
   "cell_type": "markdown",
   "metadata": {
    "id": "j8TUN3qwDgx2"
   },
   "source": [
    "## 2-1. 분석할 데이터프레임 만들기"
   ]
  },
  {
   "cell_type": "code",
   "execution_count": null,
   "metadata": {
    "colab": {
     "base_uri": "https://localhost:8080/",
     "height": 204
    },
    "executionInfo": {
     "elapsed": 6200,
     "status": "ok",
     "timestamp": 1620545379794,
     "user": {
      "displayName": "강형주",
      "photoUrl": "https://lh3.googleusercontent.com/a-/AOh14Gio_vb4wFXEbly2-bxLdO794yMb4y9zAxlZ3rlWa33hNwQQ9lW8HxxINXj3YppsQSzDssmoXuWxMT4kbNfm-kP9VJmDH-z_24vC5WPaH22tj9-arErotarZe8bKZFRHdFJqSGUvQq0uU9ULb3xXhUaI4SwNUpVZjaL2QneDfwHvj93sD2tE6J7xQ3sIBiCHQD_zvW2GTKkcyA3-vIggfiKOrdlJUTr63QzYhzBxKklfGnGvgg1YGGuS7WAd8QoRMLad14v1rAIwQS-O9CvU4M5ANqUGUUsTXiygCS9D9zs70SCnb7Kcba-5a0ERSaZ87h90wEyR0Bl2QsK3YP9Z8yXiovwbZHvCFvJbWO_xCGNlMxcQ28iDK1J4bbX-1biYYar8zed7LZa1xGN9dQlFSo7hHKgV1b5MIo3Y0E7P0YtLC_0z1zJHXYeSBC8G1JvDVx5pN04cKcZKL0orLmLVxFk_zvILyPHpbEudwT9axJmUq0NJ4trWrm-TNVUgxu_I_hWPcNSV71dUwYDBh2jlDFdLKm7en6PHkdbc9-TEOvel55_Fgf_CL0mAIu-U5D1ZdBRvw37C5m-FhFY1Su6nbwC3GuvbWlkiujJzVTNuFd5-_-dkZnBHHH8oxh7YtwKBRZcrF1qM8FqU51ZnEFc2bJ-TK_H99e46D0JB28_rM9qYH9tQZyYGszJIlXuzkYKyVTocbiRAzIwbSHxSqBvj9PDe-Pj3Km_Bnxfvw86HVYeZVSu7tNrYFzkVzhkGNhDixattmQ=s64",
      "userId": "16418805035519449193"
     },
     "user_tz": -540
    },
    "id": "DOwsdygXDgx2",
    "outputId": "21ae757f-f553-4963-dd12-aad1610389cd"
   },
   "outputs": [],
   "source": [
    "#  2019년 6월 3개로 나누어진 파일을 읽어 들인다.\n",
    "#  첫번째 파일을 읽어들이고 확인한다.\n",
    "\n",
    "bike_1 = pd.read_csv('https://github.com/sagelab4data/first_da_2021_1/blob/main/%EC%84%9C%EC%9A%B8%ED%8A%B9%EB%B3%84%EC%8B%9C%20%EA%B3%B5%EA%B3%B5%EC%9E%90%EC%A0%84%EA%B1%B0%20%EB%8C%80%EC%97%AC%EC%A0%95%EB%B3%B4_201906_1.csv?raw=true', \\\n",
    "                      encoding = 'cp949', parse_dates=['대여일시','반납일시'])\n",
    "\n"
   ]
  },
  {
   "cell_type": "code",
   "execution_count": null,
   "metadata": {
    "colab": {
     "base_uri": "https://localhost:8080/",
     "height": 204
    },
    "executionInfo": {
     "elapsed": 6190,
     "status": "ok",
     "timestamp": 1620545398733,
     "user": {
      "displayName": "강형주",
      "photoUrl": "https://lh3.googleusercontent.com/a-/AOh14Gio_vb4wFXEbly2-bxLdO794yMb4y9zAxlZ3rlWa33hNwQQ9lW8HxxINXj3YppsQSzDssmoXuWxMT4kbNfm-kP9VJmDH-z_24vC5WPaH22tj9-arErotarZe8bKZFRHdFJqSGUvQq0uU9ULb3xXhUaI4SwNUpVZjaL2QneDfwHvj93sD2tE6J7xQ3sIBiCHQD_zvW2GTKkcyA3-vIggfiKOrdlJUTr63QzYhzBxKklfGnGvgg1YGGuS7WAd8QoRMLad14v1rAIwQS-O9CvU4M5ANqUGUUsTXiygCS9D9zs70SCnb7Kcba-5a0ERSaZ87h90wEyR0Bl2QsK3YP9Z8yXiovwbZHvCFvJbWO_xCGNlMxcQ28iDK1J4bbX-1biYYar8zed7LZa1xGN9dQlFSo7hHKgV1b5MIo3Y0E7P0YtLC_0z1zJHXYeSBC8G1JvDVx5pN04cKcZKL0orLmLVxFk_zvILyPHpbEudwT9axJmUq0NJ4trWrm-TNVUgxu_I_hWPcNSV71dUwYDBh2jlDFdLKm7en6PHkdbc9-TEOvel55_Fgf_CL0mAIu-U5D1ZdBRvw37C5m-FhFY1Su6nbwC3GuvbWlkiujJzVTNuFd5-_-dkZnBHHH8oxh7YtwKBRZcrF1qM8FqU51ZnEFc2bJ-TK_H99e46D0JB28_rM9qYH9tQZyYGszJIlXuzkYKyVTocbiRAzIwbSHxSqBvj9PDe-Pj3Km_Bnxfvw86HVYeZVSu7tNrYFzkVzhkGNhDixattmQ=s64",
      "userId": "16418805035519449193"
     },
     "user_tz": -540
    },
    "id": "WrgJ1gYGDgx3",
    "outputId": "b05dc7df-abbd-4037-da38-136b4833b0e8"
   },
   "outputs": [],
   "source": [
    "#  2019년 6월 3개로 나누어진 파일을 읽어 들인다.\n",
    "#  두번째 파일을 읽어들이고 확인한다.\n",
    "\n",
    "bike_2 = pd.read_csv('https://github.com/sagelab4data/first_da_2021_1/blob/main/%EC%84%9C%EC%9A%B8%ED%8A%B9%EB%B3%84%EC%8B%9C%20%EA%B3%B5%EA%B3%B5%EC%9E%90%EC%A0%84%EA%B1%B0%20%EB%8C%80%EC%97%AC%EC%A0%95%EB%B3%B4_201906_2.csv?raw=true', \\\n",
    "                      encoding = 'cp949', parse_dates=['대여일시','반납일시'])\n",
    "\n"
   ]
  },
  {
   "cell_type": "code",
   "execution_count": null,
   "metadata": {
    "colab": {
     "base_uri": "https://localhost:8080/",
     "height": 204
    },
    "executionInfo": {
     "elapsed": 6349,
     "status": "ok",
     "timestamp": 1620545409981,
     "user": {
      "displayName": "강형주",
      "photoUrl": "https://lh3.googleusercontent.com/a-/AOh14Gio_vb4wFXEbly2-bxLdO794yMb4y9zAxlZ3rlWa33hNwQQ9lW8HxxINXj3YppsQSzDssmoXuWxMT4kbNfm-kP9VJmDH-z_24vC5WPaH22tj9-arErotarZe8bKZFRHdFJqSGUvQq0uU9ULb3xXhUaI4SwNUpVZjaL2QneDfwHvj93sD2tE6J7xQ3sIBiCHQD_zvW2GTKkcyA3-vIggfiKOrdlJUTr63QzYhzBxKklfGnGvgg1YGGuS7WAd8QoRMLad14v1rAIwQS-O9CvU4M5ANqUGUUsTXiygCS9D9zs70SCnb7Kcba-5a0ERSaZ87h90wEyR0Bl2QsK3YP9Z8yXiovwbZHvCFvJbWO_xCGNlMxcQ28iDK1J4bbX-1biYYar8zed7LZa1xGN9dQlFSo7hHKgV1b5MIo3Y0E7P0YtLC_0z1zJHXYeSBC8G1JvDVx5pN04cKcZKL0orLmLVxFk_zvILyPHpbEudwT9axJmUq0NJ4trWrm-TNVUgxu_I_hWPcNSV71dUwYDBh2jlDFdLKm7en6PHkdbc9-TEOvel55_Fgf_CL0mAIu-U5D1ZdBRvw37C5m-FhFY1Su6nbwC3GuvbWlkiujJzVTNuFd5-_-dkZnBHHH8oxh7YtwKBRZcrF1qM8FqU51ZnEFc2bJ-TK_H99e46D0JB28_rM9qYH9tQZyYGszJIlXuzkYKyVTocbiRAzIwbSHxSqBvj9PDe-Pj3Km_Bnxfvw86HVYeZVSu7tNrYFzkVzhkGNhDixattmQ=s64",
      "userId": "16418805035519449193"
     },
     "user_tz": -540
    },
    "id": "rMm-yjrGDgx3",
    "outputId": "c1279f4f-1074-4acf-e5ae-36510b84a20b"
   },
   "outputs": [],
   "source": [
    "#  2019년 6월 3개로 나누어진 파일을 읽어 들인다.\n",
    "#  세번째 파일을 읽어들이고 확인한다.\n",
    "\n",
    "bike_3 = pd.read_csv('https://github.com/sagelab4data/first_da_2021_1/blob/main/%EC%84%9C%EC%9A%B8%ED%8A%B9%EB%B3%84%EC%8B%9C%20%EA%B3%B5%EA%B3%B5%EC%9E%90%EC%A0%84%EA%B1%B0%20%EB%8C%80%EC%97%AC%EC%A0%95%EB%B3%B4_201906_3.csv?raw=true', \\\n",
    "                      encoding = 'cp949', parse_dates=['대여일시','반납일시'])\n"
   ]
  },
  {
   "cell_type": "code",
   "execution_count": null,
   "metadata": {
    "executionInfo": {
     "elapsed": 1149,
     "status": "ok",
     "timestamp": 1620545448059,
     "user": {
      "displayName": "강형주",
      "photoUrl": "https://lh3.googleusercontent.com/a-/AOh14Gio_vb4wFXEbly2-bxLdO794yMb4y9zAxlZ3rlWa33hNwQQ9lW8HxxINXj3YppsQSzDssmoXuWxMT4kbNfm-kP9VJmDH-z_24vC5WPaH22tj9-arErotarZe8bKZFRHdFJqSGUvQq0uU9ULb3xXhUaI4SwNUpVZjaL2QneDfwHvj93sD2tE6J7xQ3sIBiCHQD_zvW2GTKkcyA3-vIggfiKOrdlJUTr63QzYhzBxKklfGnGvgg1YGGuS7WAd8QoRMLad14v1rAIwQS-O9CvU4M5ANqUGUUsTXiygCS9D9zs70SCnb7Kcba-5a0ERSaZ87h90wEyR0Bl2QsK3YP9Z8yXiovwbZHvCFvJbWO_xCGNlMxcQ28iDK1J4bbX-1biYYar8zed7LZa1xGN9dQlFSo7hHKgV1b5MIo3Y0E7P0YtLC_0z1zJHXYeSBC8G1JvDVx5pN04cKcZKL0orLmLVxFk_zvILyPHpbEudwT9axJmUq0NJ4trWrm-TNVUgxu_I_hWPcNSV71dUwYDBh2jlDFdLKm7en6PHkdbc9-TEOvel55_Fgf_CL0mAIu-U5D1ZdBRvw37C5m-FhFY1Su6nbwC3GuvbWlkiujJzVTNuFd5-_-dkZnBHHH8oxh7YtwKBRZcrF1qM8FqU51ZnEFc2bJ-TK_H99e46D0JB28_rM9qYH9tQZyYGszJIlXuzkYKyVTocbiRAzIwbSHxSqBvj9PDe-Pj3Km_Bnxfvw86HVYeZVSu7tNrYFzkVzhkGNhDixattmQ=s64",
      "userId": "16418805035519449193"
     },
     "user_tz": -540
    },
    "id": "TuG9c5XyDgx4",
    "scrolled": true
   },
   "outputs": [],
   "source": [
    "# 세개의 데이터프레임 bike_1, bike_2, bike_3를 합치고 최종 데이터프레임 bike_ride를 확인한다.\n",
    "\n",
    "bike_ride = pd.concat([bike_1, bike_2, bike_3], axis = 'index', ignore_index = True)\n"
   ]
  },
  {
   "cell_type": "markdown",
   "metadata": {
    "id": "dNpDnVQ1YBjP"
   },
   "source": [
    "![image.png](data:image/png;base64,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)"
   ]
  },
  {
   "cell_type": "code",
   "execution_count": null,
   "metadata": {
    "colab": {
     "base_uri": "https://localhost:8080/",
     "height": 204
    },
    "executionInfo": {
     "elapsed": 801,
     "status": "ok",
     "timestamp": 1620545535233,
     "user": {
      "displayName": "강형주",
      "photoUrl": "https://lh3.googleusercontent.com/a-/AOh14Gio_vb4wFXEbly2-bxLdO794yMb4y9zAxlZ3rlWa33hNwQQ9lW8HxxINXj3YppsQSzDssmoXuWxMT4kbNfm-kP9VJmDH-z_24vC5WPaH22tj9-arErotarZe8bKZFRHdFJqSGUvQq0uU9ULb3xXhUaI4SwNUpVZjaL2QneDfwHvj93sD2tE6J7xQ3sIBiCHQD_zvW2GTKkcyA3-vIggfiKOrdlJUTr63QzYhzBxKklfGnGvgg1YGGuS7WAd8QoRMLad14v1rAIwQS-O9CvU4M5ANqUGUUsTXiygCS9D9zs70SCnb7Kcba-5a0ERSaZ87h90wEyR0Bl2QsK3YP9Z8yXiovwbZHvCFvJbWO_xCGNlMxcQ28iDK1J4bbX-1biYYar8zed7LZa1xGN9dQlFSo7hHKgV1b5MIo3Y0E7P0YtLC_0z1zJHXYeSBC8G1JvDVx5pN04cKcZKL0orLmLVxFk_zvILyPHpbEudwT9axJmUq0NJ4trWrm-TNVUgxu_I_hWPcNSV71dUwYDBh2jlDFdLKm7en6PHkdbc9-TEOvel55_Fgf_CL0mAIu-U5D1ZdBRvw37C5m-FhFY1Su6nbwC3GuvbWlkiujJzVTNuFd5-_-dkZnBHHH8oxh7YtwKBRZcrF1qM8FqU51ZnEFc2bJ-TK_H99e46D0JB28_rM9qYH9tQZyYGszJIlXuzkYKyVTocbiRAzIwbSHxSqBvj9PDe-Pj3Km_Bnxfvw86HVYeZVSu7tNrYFzkVzhkGNhDixattmQ=s64",
      "userId": "16418805035519449193"
     },
     "user_tz": -540
    },
    "id": "PwmPfEM1ZfE2",
    "outputId": "dae48090-3932-4638-c180-06b2da3bf4a4"
   },
   "outputs": [],
   "source": [
    "# 세개의 bike_1, bike_2, bike_3 데이터프레임을 'index'방향으로 붙이고 인덱스를 다시 세팅한다.\n",
    "\n"
   ]
  },
  {
   "cell_type": "code",
   "execution_count": null,
   "metadata": {
    "colab": {
     "base_uri": "https://localhost:8080/",
     "height": 204
    },
    "executionInfo": {
     "elapsed": 742,
     "status": "ok",
     "timestamp": 1620545552544,
     "user": {
      "displayName": "강형주",
      "photoUrl": "https://lh3.googleusercontent.com/a-/AOh14Gio_vb4wFXEbly2-bxLdO794yMb4y9zAxlZ3rlWa33hNwQQ9lW8HxxINXj3YppsQSzDssmoXuWxMT4kbNfm-kP9VJmDH-z_24vC5WPaH22tj9-arErotarZe8bKZFRHdFJqSGUvQq0uU9ULb3xXhUaI4SwNUpVZjaL2QneDfwHvj93sD2tE6J7xQ3sIBiCHQD_zvW2GTKkcyA3-vIggfiKOrdlJUTr63QzYhzBxKklfGnGvgg1YGGuS7WAd8QoRMLad14v1rAIwQS-O9CvU4M5ANqUGUUsTXiygCS9D9zs70SCnb7Kcba-5a0ERSaZ87h90wEyR0Bl2QsK3YP9Z8yXiovwbZHvCFvJbWO_xCGNlMxcQ28iDK1J4bbX-1biYYar8zed7LZa1xGN9dQlFSo7hHKgV1b5MIo3Y0E7P0YtLC_0z1zJHXYeSBC8G1JvDVx5pN04cKcZKL0orLmLVxFk_zvILyPHpbEudwT9axJmUq0NJ4trWrm-TNVUgxu_I_hWPcNSV71dUwYDBh2jlDFdLKm7en6PHkdbc9-TEOvel55_Fgf_CL0mAIu-U5D1ZdBRvw37C5m-FhFY1Su6nbwC3GuvbWlkiujJzVTNuFd5-_-dkZnBHHH8oxh7YtwKBRZcrF1qM8FqU51ZnEFc2bJ-TK_H99e46D0JB28_rM9qYH9tQZyYGszJIlXuzkYKyVTocbiRAzIwbSHxSqBvj9PDe-Pj3Km_Bnxfvw86HVYeZVSu7tNrYFzkVzhkGNhDixattmQ=s64",
      "userId": "16418805035519449193"
     },
     "user_tz": -540
    },
    "id": "7SW0hN8PWwZp",
    "outputId": "c067bac9-bf26-4dd5-ecf2-0944d44ab05c"
   },
   "outputs": [],
   "source": [
    "# 실습 : pd.concat()\n",
    "\n"
   ]
  },
  {
   "cell_type": "markdown",
   "metadata": {
    "id": "HnZCtbEGDgx4"
   },
   "source": [
    "## 2-2. 데이터프레임 관찰하기"
   ]
  },
  {
   "cell_type": "markdown",
   "metadata": {
    "id": "2axGNHEhXiEo"
   },
   "source": [
    "![image.png](data:image/png;base64,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)"
   ]
  },
  {
   "cell_type": "markdown",
   "metadata": {
    "id": "2kqRVF_2Xbnp"
   },
   "source": []
  },
  {
   "cell_type": "code",
   "execution_count": null,
   "metadata": {
    "colab": {
     "base_uri": "https://localhost:8080/"
    },
    "executionInfo": {
     "elapsed": 594,
     "status": "ok",
     "timestamp": 1620546286692,
     "user": {
      "displayName": "강형주",
      "photoUrl": "https://lh3.googleusercontent.com/a-/AOh14Gio_vb4wFXEbly2-bxLdO794yMb4y9zAxlZ3rlWa33hNwQQ9lW8HxxINXj3YppsQSzDssmoXuWxMT4kbNfm-kP9VJmDH-z_24vC5WPaH22tj9-arErotarZe8bKZFRHdFJqSGUvQq0uU9ULb3xXhUaI4SwNUpVZjaL2QneDfwHvj93sD2tE6J7xQ3sIBiCHQD_zvW2GTKkcyA3-vIggfiKOrdlJUTr63QzYhzBxKklfGnGvgg1YGGuS7WAd8QoRMLad14v1rAIwQS-O9CvU4M5ANqUGUUsTXiygCS9D9zs70SCnb7Kcba-5a0ERSaZ87h90wEyR0Bl2QsK3YP9Z8yXiovwbZHvCFvJbWO_xCGNlMxcQ28iDK1J4bbX-1biYYar8zed7LZa1xGN9dQlFSo7hHKgV1b5MIo3Y0E7P0YtLC_0z1zJHXYeSBC8G1JvDVx5pN04cKcZKL0orLmLVxFk_zvILyPHpbEudwT9axJmUq0NJ4trWrm-TNVUgxu_I_hWPcNSV71dUwYDBh2jlDFdLKm7en6PHkdbc9-TEOvel55_Fgf_CL0mAIu-U5D1ZdBRvw37C5m-FhFY1Su6nbwC3GuvbWlkiujJzVTNuFd5-_-dkZnBHHH8oxh7YtwKBRZcrF1qM8FqU51ZnEFc2bJ-TK_H99e46D0JB28_rM9qYH9tQZyYGszJIlXuzkYKyVTocbiRAzIwbSHxSqBvj9PDe-Pj3Km_Bnxfvw86HVYeZVSu7tNrYFzkVzhkGNhDixattmQ=s64",
      "userId": "16418805035519449193"
     },
     "user_tz": -540
    },
    "id": "gPspoo59Dgx4",
    "outputId": "88084940-2489-4115-c41b-402dc3686f85"
   },
   "outputs": [],
   "source": [
    "# bike_ride 의 정보를 알려주는 명령어는 ?\n",
    "\n"
   ]
  },
  {
   "cell_type": "code",
   "execution_count": null,
   "metadata": {
    "id": "oP8PscQIDgx4"
   },
   "outputs": [],
   "source": [
    "# 실습 : bike_ride 의 정보를 알려주는 명령어는 ?\n",
    "\n"
   ]
  },
  {
   "cell_type": "code",
   "execution_count": null,
   "metadata": {
    "colab": {
     "base_uri": "https://localhost:8080/"
    },
    "executionInfo": {
     "elapsed": 515,
     "status": "ok",
     "timestamp": 1620546367355,
     "user": {
      "displayName": "강형주",
      "photoUrl": "https://lh3.googleusercontent.com/a-/AOh14Gio_vb4wFXEbly2-bxLdO794yMb4y9zAxlZ3rlWa33hNwQQ9lW8HxxINXj3YppsQSzDssmoXuWxMT4kbNfm-kP9VJmDH-z_24vC5WPaH22tj9-arErotarZe8bKZFRHdFJqSGUvQq0uU9ULb3xXhUaI4SwNUpVZjaL2QneDfwHvj93sD2tE6J7xQ3sIBiCHQD_zvW2GTKkcyA3-vIggfiKOrdlJUTr63QzYhzBxKklfGnGvgg1YGGuS7WAd8QoRMLad14v1rAIwQS-O9CvU4M5ANqUGUUsTXiygCS9D9zs70SCnb7Kcba-5a0ERSaZ87h90wEyR0Bl2QsK3YP9Z8yXiovwbZHvCFvJbWO_xCGNlMxcQ28iDK1J4bbX-1biYYar8zed7LZa1xGN9dQlFSo7hHKgV1b5MIo3Y0E7P0YtLC_0z1zJHXYeSBC8G1JvDVx5pN04cKcZKL0orLmLVxFk_zvILyPHpbEudwT9axJmUq0NJ4trWrm-TNVUgxu_I_hWPcNSV71dUwYDBh2jlDFdLKm7en6PHkdbc9-TEOvel55_Fgf_CL0mAIu-U5D1ZdBRvw37C5m-FhFY1Su6nbwC3GuvbWlkiujJzVTNuFd5-_-dkZnBHHH8oxh7YtwKBRZcrF1qM8FqU51ZnEFc2bJ-TK_H99e46D0JB28_rM9qYH9tQZyYGszJIlXuzkYKyVTocbiRAzIwbSHxSqBvj9PDe-Pj3Km_Bnxfvw86HVYeZVSu7tNrYFzkVzhkGNhDixattmQ=s64",
      "userId": "16418805035519449193"
     },
     "user_tz": -540
    },
    "id": "4gqjXDAaDgx5",
    "outputId": "4e81b41c-a409-43cf-8047-1094a07fc9c9"
   },
   "outputs": [],
   "source": [
    "# bike_ride 의 전체 행수는 ?\n",
    "\n",
    "bike_ride.shape[0]"
   ]
  },
  {
   "cell_type": "code",
   "execution_count": null,
   "metadata": {
    "id": "bcc8VAS9Dgx5"
   },
   "outputs": [],
   "source": [
    "# 실습 : bike_ride 의 전체 행수는 ?\n",
    "\n"
   ]
  },
  {
   "cell_type": "code",
   "execution_count": null,
   "metadata": {
    "colab": {
     "base_uri": "https://localhost:8080/"
    },
    "executionInfo": {
     "elapsed": 514,
     "status": "ok",
     "timestamp": 1620546394900,
     "user": {
      "displayName": "강형주",
      "photoUrl": "https://lh3.googleusercontent.com/a-/AOh14Gio_vb4wFXEbly2-bxLdO794yMb4y9zAxlZ3rlWa33hNwQQ9lW8HxxINXj3YppsQSzDssmoXuWxMT4kbNfm-kP9VJmDH-z_24vC5WPaH22tj9-arErotarZe8bKZFRHdFJqSGUvQq0uU9ULb3xXhUaI4SwNUpVZjaL2QneDfwHvj93sD2tE6J7xQ3sIBiCHQD_zvW2GTKkcyA3-vIggfiKOrdlJUTr63QzYhzBxKklfGnGvgg1YGGuS7WAd8QoRMLad14v1rAIwQS-O9CvU4M5ANqUGUUsTXiygCS9D9zs70SCnb7Kcba-5a0ERSaZ87h90wEyR0Bl2QsK3YP9Z8yXiovwbZHvCFvJbWO_xCGNlMxcQ28iDK1J4bbX-1biYYar8zed7LZa1xGN9dQlFSo7hHKgV1b5MIo3Y0E7P0YtLC_0z1zJHXYeSBC8G1JvDVx5pN04cKcZKL0orLmLVxFk_zvILyPHpbEudwT9axJmUq0NJ4trWrm-TNVUgxu_I_hWPcNSV71dUwYDBh2jlDFdLKm7en6PHkdbc9-TEOvel55_Fgf_CL0mAIu-U5D1ZdBRvw37C5m-FhFY1Su6nbwC3GuvbWlkiujJzVTNuFd5-_-dkZnBHHH8oxh7YtwKBRZcrF1qM8FqU51ZnEFc2bJ-TK_H99e46D0JB28_rM9qYH9tQZyYGszJIlXuzkYKyVTocbiRAzIwbSHxSqBvj9PDe-Pj3Km_Bnxfvw86HVYeZVSu7tNrYFzkVzhkGNhDixattmQ=s64",
      "userId": "16418805035519449193"
     },
     "user_tz": -540
    },
    "id": "E0y1pARkDgx5",
    "outputId": "1b7b8a92-63db-45ba-bfeb-2fb8d0625916"
   },
   "outputs": [],
   "source": [
    "# bike_ride 의 인덱스는 ?\n",
    "\n",
    "bike_ride.index"
   ]
  },
  {
   "cell_type": "code",
   "execution_count": null,
   "metadata": {
    "id": "DapRCzgwDgx5"
   },
   "outputs": [],
   "source": [
    "# 실습 : bike_ride 의 인덱스는 ?\n",
    "\n"
   ]
  },
  {
   "cell_type": "code",
   "execution_count": null,
   "metadata": {
    "colab": {
     "base_uri": "https://localhost:8080/"
    },
    "executionInfo": {
     "elapsed": 512,
     "status": "ok",
     "timestamp": 1620546421906,
     "user": {
      "displayName": "강형주",
      "photoUrl": "https://lh3.googleusercontent.com/a-/AOh14Gio_vb4wFXEbly2-bxLdO794yMb4y9zAxlZ3rlWa33hNwQQ9lW8HxxINXj3YppsQSzDssmoXuWxMT4kbNfm-kP9VJmDH-z_24vC5WPaH22tj9-arErotarZe8bKZFRHdFJqSGUvQq0uU9ULb3xXhUaI4SwNUpVZjaL2QneDfwHvj93sD2tE6J7xQ3sIBiCHQD_zvW2GTKkcyA3-vIggfiKOrdlJUTr63QzYhzBxKklfGnGvgg1YGGuS7WAd8QoRMLad14v1rAIwQS-O9CvU4M5ANqUGUUsTXiygCS9D9zs70SCnb7Kcba-5a0ERSaZ87h90wEyR0Bl2QsK3YP9Z8yXiovwbZHvCFvJbWO_xCGNlMxcQ28iDK1J4bbX-1biYYar8zed7LZa1xGN9dQlFSo7hHKgV1b5MIo3Y0E7P0YtLC_0z1zJHXYeSBC8G1JvDVx5pN04cKcZKL0orLmLVxFk_zvILyPHpbEudwT9axJmUq0NJ4trWrm-TNVUgxu_I_hWPcNSV71dUwYDBh2jlDFdLKm7en6PHkdbc9-TEOvel55_Fgf_CL0mAIu-U5D1ZdBRvw37C5m-FhFY1Su6nbwC3GuvbWlkiujJzVTNuFd5-_-dkZnBHHH8oxh7YtwKBRZcrF1qM8FqU51ZnEFc2bJ-TK_H99e46D0JB28_rM9qYH9tQZyYGszJIlXuzkYKyVTocbiRAzIwbSHxSqBvj9PDe-Pj3Km_Bnxfvw86HVYeZVSu7tNrYFzkVzhkGNhDixattmQ=s64",
      "userId": "16418805035519449193"
     },
     "user_tz": -540
    },
    "id": "0XvH8Z42Dgx5",
    "outputId": "0fc520ac-e7f3-4558-bafb-1a1e5ce7f7be"
   },
   "outputs": [],
   "source": [
    "# bike_ride 의 열수는 ?\n",
    "\n",
    "bike_ride.shape[1]"
   ]
  },
  {
   "cell_type": "code",
   "execution_count": null,
   "metadata": {
    "id": "H5ekvhcRDgx6"
   },
   "outputs": [],
   "source": [
    "# 실습 : bike_ride 의 열수는 ?\n",
    "\n"
   ]
  },
  {
   "cell_type": "code",
   "execution_count": null,
   "metadata": {
    "colab": {
     "base_uri": "https://localhost:8080/"
    },
    "executionInfo": {
     "elapsed": 498,
     "status": "ok",
     "timestamp": 1620546437804,
     "user": {
      "displayName": "강형주",
      "photoUrl": "https://lh3.googleusercontent.com/a-/AOh14Gio_vb4wFXEbly2-bxLdO794yMb4y9zAxlZ3rlWa33hNwQQ9lW8HxxINXj3YppsQSzDssmoXuWxMT4kbNfm-kP9VJmDH-z_24vC5WPaH22tj9-arErotarZe8bKZFRHdFJqSGUvQq0uU9ULb3xXhUaI4SwNUpVZjaL2QneDfwHvj93sD2tE6J7xQ3sIBiCHQD_zvW2GTKkcyA3-vIggfiKOrdlJUTr63QzYhzBxKklfGnGvgg1YGGuS7WAd8QoRMLad14v1rAIwQS-O9CvU4M5ANqUGUUsTXiygCS9D9zs70SCnb7Kcba-5a0ERSaZ87h90wEyR0Bl2QsK3YP9Z8yXiovwbZHvCFvJbWO_xCGNlMxcQ28iDK1J4bbX-1biYYar8zed7LZa1xGN9dQlFSo7hHKgV1b5MIo3Y0E7P0YtLC_0z1zJHXYeSBC8G1JvDVx5pN04cKcZKL0orLmLVxFk_zvILyPHpbEudwT9axJmUq0NJ4trWrm-TNVUgxu_I_hWPcNSV71dUwYDBh2jlDFdLKm7en6PHkdbc9-TEOvel55_Fgf_CL0mAIu-U5D1ZdBRvw37C5m-FhFY1Su6nbwC3GuvbWlkiujJzVTNuFd5-_-dkZnBHHH8oxh7YtwKBRZcrF1qM8FqU51ZnEFc2bJ-TK_H99e46D0JB28_rM9qYH9tQZyYGszJIlXuzkYKyVTocbiRAzIwbSHxSqBvj9PDe-Pj3Km_Bnxfvw86HVYeZVSu7tNrYFzkVzhkGNhDixattmQ=s64",
      "userId": "16418805035519449193"
     },
     "user_tz": -540
    },
    "id": "g6wPMWWQDgx6",
    "outputId": "f5190c83-8ee9-4a74-d54a-254616540755"
   },
   "outputs": [],
   "source": [
    "# bike_ride 의 컬럼은 ?\n",
    "\n",
    "bike_ride.columns"
   ]
  },
  {
   "cell_type": "code",
   "execution_count": null,
   "metadata": {
    "id": "16xe73_kDgx6"
   },
   "outputs": [],
   "source": [
    "# 실습 : bike_ride 의 컬럼은 ?\n",
    "\n"
   ]
  },
  {
   "cell_type": "code",
   "execution_count": null,
   "metadata": {
    "colab": {
     "base_uri": "https://localhost:8080/"
    },
    "executionInfo": {
     "elapsed": 600,
     "status": "ok",
     "timestamp": 1620546454579,
     "user": {
      "displayName": "강형주",
      "photoUrl": "https://lh3.googleusercontent.com/a-/AOh14Gio_vb4wFXEbly2-bxLdO794yMb4y9zAxlZ3rlWa33hNwQQ9lW8HxxINXj3YppsQSzDssmoXuWxMT4kbNfm-kP9VJmDH-z_24vC5WPaH22tj9-arErotarZe8bKZFRHdFJqSGUvQq0uU9ULb3xXhUaI4SwNUpVZjaL2QneDfwHvj93sD2tE6J7xQ3sIBiCHQD_zvW2GTKkcyA3-vIggfiKOrdlJUTr63QzYhzBxKklfGnGvgg1YGGuS7WAd8QoRMLad14v1rAIwQS-O9CvU4M5ANqUGUUsTXiygCS9D9zs70SCnb7Kcba-5a0ERSaZ87h90wEyR0Bl2QsK3YP9Z8yXiovwbZHvCFvJbWO_xCGNlMxcQ28iDK1J4bbX-1biYYar8zed7LZa1xGN9dQlFSo7hHKgV1b5MIo3Y0E7P0YtLC_0z1zJHXYeSBC8G1JvDVx5pN04cKcZKL0orLmLVxFk_zvILyPHpbEudwT9axJmUq0NJ4trWrm-TNVUgxu_I_hWPcNSV71dUwYDBh2jlDFdLKm7en6PHkdbc9-TEOvel55_Fgf_CL0mAIu-U5D1ZdBRvw37C5m-FhFY1Su6nbwC3GuvbWlkiujJzVTNuFd5-_-dkZnBHHH8oxh7YtwKBRZcrF1qM8FqU51ZnEFc2bJ-TK_H99e46D0JB28_rM9qYH9tQZyYGszJIlXuzkYKyVTocbiRAzIwbSHxSqBvj9PDe-Pj3Km_Bnxfvw86HVYeZVSu7tNrYFzkVzhkGNhDixattmQ=s64",
      "userId": "16418805035519449193"
     },
     "user_tz": -540
    },
    "id": "i11g7WO3Dgx6",
    "outputId": "4537425a-3023-4941-f94c-e63ada7b29d7"
   },
   "outputs": [],
   "source": [
    "# bike_ride 의 컬럼의 데이터타입은 ?\n",
    "\n",
    "bike_ride.dtypes"
   ]
  },
  {
   "cell_type": "code",
   "execution_count": null,
   "metadata": {
    "id": "fkOz540vDgx6"
   },
   "outputs": [],
   "source": [
    "# 실습 : bike_ride 의 컬럼의 데이터타입은 ?\n",
    "\n"
   ]
  },
  {
   "cell_type": "code",
   "execution_count": null,
   "metadata": {
    "colab": {
     "base_uri": "https://localhost:8080/"
    },
    "executionInfo": {
     "elapsed": 523,
     "status": "ok",
     "timestamp": 1620546494100,
     "user": {
      "displayName": "강형주",
      "photoUrl": "https://lh3.googleusercontent.com/a-/AOh14Gio_vb4wFXEbly2-bxLdO794yMb4y9zAxlZ3rlWa33hNwQQ9lW8HxxINXj3YppsQSzDssmoXuWxMT4kbNfm-kP9VJmDH-z_24vC5WPaH22tj9-arErotarZe8bKZFRHdFJqSGUvQq0uU9ULb3xXhUaI4SwNUpVZjaL2QneDfwHvj93sD2tE6J7xQ3sIBiCHQD_zvW2GTKkcyA3-vIggfiKOrdlJUTr63QzYhzBxKklfGnGvgg1YGGuS7WAd8QoRMLad14v1rAIwQS-O9CvU4M5ANqUGUUsTXiygCS9D9zs70SCnb7Kcba-5a0ERSaZ87h90wEyR0Bl2QsK3YP9Z8yXiovwbZHvCFvJbWO_xCGNlMxcQ28iDK1J4bbX-1biYYar8zed7LZa1xGN9dQlFSo7hHKgV1b5MIo3Y0E7P0YtLC_0z1zJHXYeSBC8G1JvDVx5pN04cKcZKL0orLmLVxFk_zvILyPHpbEudwT9axJmUq0NJ4trWrm-TNVUgxu_I_hWPcNSV71dUwYDBh2jlDFdLKm7en6PHkdbc9-TEOvel55_Fgf_CL0mAIu-U5D1ZdBRvw37C5m-FhFY1Su6nbwC3GuvbWlkiujJzVTNuFd5-_-dkZnBHHH8oxh7YtwKBRZcrF1qM8FqU51ZnEFc2bJ-TK_H99e46D0JB28_rM9qYH9tQZyYGszJIlXuzkYKyVTocbiRAzIwbSHxSqBvj9PDe-Pj3Km_Bnxfvw86HVYeZVSu7tNrYFzkVzhkGNhDixattmQ=s64",
      "userId": "16418805035519449193"
     },
     "user_tz": -540
    },
    "id": "F9ehrR0gDgx7",
    "outputId": "61567855-2bba-4d42-f1c9-1bee33934b33"
   },
   "outputs": [],
   "source": [
    "# bike_ride 의 shape은 ?\n",
    "\n"
   ]
  },
  {
   "cell_type": "code",
   "execution_count": null,
   "metadata": {
    "id": "cR6yWVQDDgx7"
   },
   "outputs": [],
   "source": [
    "# 실습 : bike_ride 의 shape은 ?\n",
    "\n"
   ]
  },
  {
   "cell_type": "markdown",
   "metadata": {
    "id": "WGOLSeDOYIsg"
   },
   "source": [
    "![image.png](data:image/png;base64,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)"
   ]
  },
  {
   "cell_type": "code",
   "execution_count": null,
   "metadata": {
    "colab": {
     "base_uri": "https://localhost:8080/",
     "height": 297
    },
    "executionInfo": {
     "elapsed": 970,
     "status": "ok",
     "timestamp": 1620546554316,
     "user": {
      "displayName": "강형주",
      "photoUrl": "https://lh3.googleusercontent.com/a-/AOh14Gio_vb4wFXEbly2-bxLdO794yMb4y9zAxlZ3rlWa33hNwQQ9lW8HxxINXj3YppsQSzDssmoXuWxMT4kbNfm-kP9VJmDH-z_24vC5WPaH22tj9-arErotarZe8bKZFRHdFJqSGUvQq0uU9ULb3xXhUaI4SwNUpVZjaL2QneDfwHvj93sD2tE6J7xQ3sIBiCHQD_zvW2GTKkcyA3-vIggfiKOrdlJUTr63QzYhzBxKklfGnGvgg1YGGuS7WAd8QoRMLad14v1rAIwQS-O9CvU4M5ANqUGUUsTXiygCS9D9zs70SCnb7Kcba-5a0ERSaZ87h90wEyR0Bl2QsK3YP9Z8yXiovwbZHvCFvJbWO_xCGNlMxcQ28iDK1J4bbX-1biYYar8zed7LZa1xGN9dQlFSo7hHKgV1b5MIo3Y0E7P0YtLC_0z1zJHXYeSBC8G1JvDVx5pN04cKcZKL0orLmLVxFk_zvILyPHpbEudwT9axJmUq0NJ4trWrm-TNVUgxu_I_hWPcNSV71dUwYDBh2jlDFdLKm7en6PHkdbc9-TEOvel55_Fgf_CL0mAIu-U5D1ZdBRvw37C5m-FhFY1Su6nbwC3GuvbWlkiujJzVTNuFd5-_-dkZnBHHH8oxh7YtwKBRZcrF1qM8FqU51ZnEFc2bJ-TK_H99e46D0JB28_rM9qYH9tQZyYGszJIlXuzkYKyVTocbiRAzIwbSHxSqBvj9PDe-Pj3Km_Bnxfvw86HVYeZVSu7tNrYFzkVzhkGNhDixattmQ=s64",
      "userId": "16418805035519449193"
     },
     "user_tz": -540
    },
    "id": "QnhQhMlLDgx7",
    "outputId": "6bd9814b-34b5-41e6-b936-02dfe55642c3",
    "scrolled": true
   },
   "outputs": [],
   "source": [
    "# bike_ride 데이터프레임의 요약통계 알아보기\n",
    "\n"
   ]
  },
  {
   "cell_type": "markdown",
   "metadata": {
    "id": "FyqAcvVFcVcY"
   },
   "source": [
    "분석결과 : 이용시간은 평균이 약 27분, 이용거리는 약 4km"
   ]
  },
  {
   "cell_type": "code",
   "execution_count": null,
   "metadata": {
    "id": "vYjyMa1MDgx7"
   },
   "outputs": [],
   "source": [
    "# 실습 : bike_ride 데이터프레임의 요약통계 알아보기\n",
    "\n"
   ]
  },
  {
   "cell_type": "code",
   "execution_count": null,
   "metadata": {
    "colab": {
     "base_uri": "https://localhost:8080/",
     "height": 323
    },
    "executionInfo": {
     "elapsed": 2377,
     "status": "ok",
     "timestamp": 1620546638074,
     "user": {
      "displayName": "강형주",
      "photoUrl": "https://lh3.googleusercontent.com/a-/AOh14Gio_vb4wFXEbly2-bxLdO794yMb4y9zAxlZ3rlWa33hNwQQ9lW8HxxINXj3YppsQSzDssmoXuWxMT4kbNfm-kP9VJmDH-z_24vC5WPaH22tj9-arErotarZe8bKZFRHdFJqSGUvQq0uU9ULb3xXhUaI4SwNUpVZjaL2QneDfwHvj93sD2tE6J7xQ3sIBiCHQD_zvW2GTKkcyA3-vIggfiKOrdlJUTr63QzYhzBxKklfGnGvgg1YGGuS7WAd8QoRMLad14v1rAIwQS-O9CvU4M5ANqUGUUsTXiygCS9D9zs70SCnb7Kcba-5a0ERSaZ87h90wEyR0Bl2QsK3YP9Z8yXiovwbZHvCFvJbWO_xCGNlMxcQ28iDK1J4bbX-1biYYar8zed7LZa1xGN9dQlFSo7hHKgV1b5MIo3Y0E7P0YtLC_0z1zJHXYeSBC8G1JvDVx5pN04cKcZKL0orLmLVxFk_zvILyPHpbEudwT9axJmUq0NJ4trWrm-TNVUgxu_I_hWPcNSV71dUwYDBh2jlDFdLKm7en6PHkdbc9-TEOvel55_Fgf_CL0mAIu-U5D1ZdBRvw37C5m-FhFY1Su6nbwC3GuvbWlkiujJzVTNuFd5-_-dkZnBHHH8oxh7YtwKBRZcrF1qM8FqU51ZnEFc2bJ-TK_H99e46D0JB28_rM9qYH9tQZyYGszJIlXuzkYKyVTocbiRAzIwbSHxSqBvj9PDe-Pj3Km_Bnxfvw86HVYeZVSu7tNrYFzkVzhkGNhDixattmQ=s64",
      "userId": "16418805035519449193"
     },
     "user_tz": -540
    },
    "id": "bYWkXFkFDgx7",
    "outputId": "6294ad7c-259e-40a6-92e9-c49e293c5b29"
   },
   "outputs": [],
   "source": [
    "# 데이터타입이 object와 np.datetime64인 경우의 요약통계\n",
    "\n",
    "bike_ride.describe(include = ['object', 'datetime64'])"
   ]
  },
  {
   "cell_type": "markdown",
   "metadata": {
    "id": "phanm6DVYlgr"
   },
   "source": [
    "분석결과 : 대여소는 1543 개가 있고,   자전거는 19029 대가 있다. 대여 대여소명과 반납대여소명에서 가장 빈도가 많은 것은 뚝섬유원지역 1번출구 앞이다. \n"
   ]
  },
  {
   "cell_type": "code",
   "execution_count": null,
   "metadata": {
    "id": "LqfjjZ3RDgx7"
   },
   "outputs": [],
   "source": [
    "# 실습 : 데이터타입이 object와 np.datetime64인 경우의 요약통계\n",
    "\n"
   ]
  },
  {
   "cell_type": "markdown",
   "metadata": {
    "id": "wVtWZGIzYuFK"
   },
   "source": [
    "![image.png](data:image/png;base64,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)"
   ]
  },
  {
   "cell_type": "code",
   "execution_count": null,
   "metadata": {
    "colab": {
     "base_uri": "https://localhost:8080/",
     "height": 419
    },
    "executionInfo": {
     "elapsed": 881,
     "status": "ok",
     "timestamp": 1620546711739,
     "user": {
      "displayName": "강형주",
      "photoUrl": "https://lh3.googleusercontent.com/a-/AOh14Gio_vb4wFXEbly2-bxLdO794yMb4y9zAxlZ3rlWa33hNwQQ9lW8HxxINXj3YppsQSzDssmoXuWxMT4kbNfm-kP9VJmDH-z_24vC5WPaH22tj9-arErotarZe8bKZFRHdFJqSGUvQq0uU9ULb3xXhUaI4SwNUpVZjaL2QneDfwHvj93sD2tE6J7xQ3sIBiCHQD_zvW2GTKkcyA3-vIggfiKOrdlJUTr63QzYhzBxKklfGnGvgg1YGGuS7WAd8QoRMLad14v1rAIwQS-O9CvU4M5ANqUGUUsTXiygCS9D9zs70SCnb7Kcba-5a0ERSaZ87h90wEyR0Bl2QsK3YP9Z8yXiovwbZHvCFvJbWO_xCGNlMxcQ28iDK1J4bbX-1biYYar8zed7LZa1xGN9dQlFSo7hHKgV1b5MIo3Y0E7P0YtLC_0z1zJHXYeSBC8G1JvDVx5pN04cKcZKL0orLmLVxFk_zvILyPHpbEudwT9axJmUq0NJ4trWrm-TNVUgxu_I_hWPcNSV71dUwYDBh2jlDFdLKm7en6PHkdbc9-TEOvel55_Fgf_CL0mAIu-U5D1ZdBRvw37C5m-FhFY1Su6nbwC3GuvbWlkiujJzVTNuFd5-_-dkZnBHHH8oxh7YtwKBRZcrF1qM8FqU51ZnEFc2bJ-TK_H99e46D0JB28_rM9qYH9tQZyYGszJIlXuzkYKyVTocbiRAzIwbSHxSqBvj9PDe-Pj3Km_Bnxfvw86HVYeZVSu7tNrYFzkVzhkGNhDixattmQ=s64",
      "userId": "16418805035519449193"
     },
     "user_tz": -540
    },
    "id": "0Pb4M6XVDgx8",
    "outputId": "0fa164a5-7c1f-4862-e1b3-42c2765f24a8"
   },
   "outputs": [],
   "source": [
    "# 누락값 조사\n",
    "# 1단계 -> 전체 데이터프레임의 각각의 컬럼값이 null인지 판단한다.\n",
    "\n"
   ]
  },
  {
   "cell_type": "code",
   "execution_count": null,
   "metadata": {
    "id": "MS8Q7fJwDgx8"
   },
   "outputs": [],
   "source": [
    "# 실습 : 1단계 -> 전체 데이터프레임의 각각의 컬럼값이 null인지 판단한다.\n",
    "\n"
   ]
  },
  {
   "cell_type": "code",
   "execution_count": null,
   "metadata": {
    "colab": {
     "base_uri": "https://localhost:8080/"
    },
    "executionInfo": {
     "elapsed": 877,
     "status": "ok",
     "timestamp": 1620546754817,
     "user": {
      "displayName": "강형주",
      "photoUrl": "https://lh3.googleusercontent.com/a-/AOh14Gio_vb4wFXEbly2-bxLdO794yMb4y9zAxlZ3rlWa33hNwQQ9lW8HxxINXj3YppsQSzDssmoXuWxMT4kbNfm-kP9VJmDH-z_24vC5WPaH22tj9-arErotarZe8bKZFRHdFJqSGUvQq0uU9ULb3xXhUaI4SwNUpVZjaL2QneDfwHvj93sD2tE6J7xQ3sIBiCHQD_zvW2GTKkcyA3-vIggfiKOrdlJUTr63QzYhzBxKklfGnGvgg1YGGuS7WAd8QoRMLad14v1rAIwQS-O9CvU4M5ANqUGUUsTXiygCS9D9zs70SCnb7Kcba-5a0ERSaZ87h90wEyR0Bl2QsK3YP9Z8yXiovwbZHvCFvJbWO_xCGNlMxcQ28iDK1J4bbX-1biYYar8zed7LZa1xGN9dQlFSo7hHKgV1b5MIo3Y0E7P0YtLC_0z1zJHXYeSBC8G1JvDVx5pN04cKcZKL0orLmLVxFk_zvILyPHpbEudwT9axJmUq0NJ4trWrm-TNVUgxu_I_hWPcNSV71dUwYDBh2jlDFdLKm7en6PHkdbc9-TEOvel55_Fgf_CL0mAIu-U5D1ZdBRvw37C5m-FhFY1Su6nbwC3GuvbWlkiujJzVTNuFd5-_-dkZnBHHH8oxh7YtwKBRZcrF1qM8FqU51ZnEFc2bJ-TK_H99e46D0JB28_rM9qYH9tQZyYGszJIlXuzkYKyVTocbiRAzIwbSHxSqBvj9PDe-Pj3Km_Bnxfvw86HVYeZVSu7tNrYFzkVzhkGNhDixattmQ=s64",
      "userId": "16418805035519449193"
     },
     "user_tz": -540
    },
    "id": "Dun5jFD7Dgx8",
    "outputId": "af7a126b-6f21-4954-9646-af974c6df5e8"
   },
   "outputs": [],
   "source": [
    "# 누락값 조사\n",
    "# 2단계 -> 각각의 컬럼값의 합을 구한다.\n",
    "\n",
    "bike_ride.isnull().****"
   ]
  },
  {
   "cell_type": "code",
   "execution_count": null,
   "metadata": {
    "id": "VlK0Fw-qDgx8"
   },
   "outputs": [],
   "source": [
    "# 실습 : 2단계 -> 각각의 컬럼값의 합을 구한다.\n",
    "\n"
   ]
  },
  {
   "cell_type": "markdown",
   "metadata": {
    "id": "vDRhItFgDgx9"
   },
   "source": [
    "## 2-3. 분석주제에 맞는 새로운 컬럼 추가하기"
   ]
  },
  {
   "cell_type": "markdown",
   "metadata": {
    "id": "htp11QxJcWKd"
   },
   "source": [
    "![image.png](data:image/png;base64,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)"
   ]
  },
  {
   "cell_type": "code",
   "execution_count": null,
   "metadata": {
    "colab": {
     "base_uri": "https://localhost:8080/"
    },
    "executionInfo": {
     "elapsed": 537,
     "status": "ok",
     "timestamp": 1620547712972,
     "user": {
      "displayName": "강형주",
      "photoUrl": "https://lh3.googleusercontent.com/a-/AOh14Gio_vb4wFXEbly2-bxLdO794yMb4y9zAxlZ3rlWa33hNwQQ9lW8HxxINXj3YppsQSzDssmoXuWxMT4kbNfm-kP9VJmDH-z_24vC5WPaH22tj9-arErotarZe8bKZFRHdFJqSGUvQq0uU9ULb3xXhUaI4SwNUpVZjaL2QneDfwHvj93sD2tE6J7xQ3sIBiCHQD_zvW2GTKkcyA3-vIggfiKOrdlJUTr63QzYhzBxKklfGnGvgg1YGGuS7WAd8QoRMLad14v1rAIwQS-O9CvU4M5ANqUGUUsTXiygCS9D9zs70SCnb7Kcba-5a0ERSaZ87h90wEyR0Bl2QsK3YP9Z8yXiovwbZHvCFvJbWO_xCGNlMxcQ28iDK1J4bbX-1biYYar8zed7LZa1xGN9dQlFSo7hHKgV1b5MIo3Y0E7P0YtLC_0z1zJHXYeSBC8G1JvDVx5pN04cKcZKL0orLmLVxFk_zvILyPHpbEudwT9axJmUq0NJ4trWrm-TNVUgxu_I_hWPcNSV71dUwYDBh2jlDFdLKm7en6PHkdbc9-TEOvel55_Fgf_CL0mAIu-U5D1ZdBRvw37C5m-FhFY1Su6nbwC3GuvbWlkiujJzVTNuFd5-_-dkZnBHHH8oxh7YtwKBRZcrF1qM8FqU51ZnEFc2bJ-TK_H99e46D0JB28_rM9qYH9tQZyYGszJIlXuzkYKyVTocbiRAzIwbSHxSqBvj9PDe-Pj3Km_Bnxfvw86HVYeZVSu7tNrYFzkVzhkGNhDixattmQ=s64",
      "userId": "16418805035519449193"
     },
     "user_tz": -540
    },
    "id": "KpqbxNoMDgx9",
    "outputId": "3452c765-4e42-4e16-9323-06abd2614bc6"
   },
   "outputs": [],
   "source": [
    "# 요일 이라는 리스트를 만든다.\n",
    "\n",
    "요일 = ['월','화','수','목','금','토','일']\n",
    "요일"
   ]
  },
  {
   "cell_type": "code",
   "execution_count": null,
   "metadata": {
    "colab": {
     "base_uri": "https://localhost:8080/"
    },
    "executionInfo": {
     "elapsed": 531,
     "status": "ok",
     "timestamp": 1620547732094,
     "user": {
      "displayName": "강형주",
      "photoUrl": "https://lh3.googleusercontent.com/a-/AOh14Gio_vb4wFXEbly2-bxLdO794yMb4y9zAxlZ3rlWa33hNwQQ9lW8HxxINXj3YppsQSzDssmoXuWxMT4kbNfm-kP9VJmDH-z_24vC5WPaH22tj9-arErotarZe8bKZFRHdFJqSGUvQq0uU9ULb3xXhUaI4SwNUpVZjaL2QneDfwHvj93sD2tE6J7xQ3sIBiCHQD_zvW2GTKkcyA3-vIggfiKOrdlJUTr63QzYhzBxKklfGnGvgg1YGGuS7WAd8QoRMLad14v1rAIwQS-O9CvU4M5ANqUGUUsTXiygCS9D9zs70SCnb7Kcba-5a0ERSaZ87h90wEyR0Bl2QsK3YP9Z8yXiovwbZHvCFvJbWO_xCGNlMxcQ28iDK1J4bbX-1biYYar8zed7LZa1xGN9dQlFSo7hHKgV1b5MIo3Y0E7P0YtLC_0z1zJHXYeSBC8G1JvDVx5pN04cKcZKL0orLmLVxFk_zvILyPHpbEudwT9axJmUq0NJ4trWrm-TNVUgxu_I_hWPcNSV71dUwYDBh2jlDFdLKm7en6PHkdbc9-TEOvel55_Fgf_CL0mAIu-U5D1ZdBRvw37C5m-FhFY1Su6nbwC3GuvbWlkiujJzVTNuFd5-_-dkZnBHHH8oxh7YtwKBRZcrF1qM8FqU51ZnEFc2bJ-TK_H99e46D0JB28_rM9qYH9tQZyYGszJIlXuzkYKyVTocbiRAzIwbSHxSqBvj9PDe-Pj3Km_Bnxfvw86HVYeZVSu7tNrYFzkVzhkGNhDixattmQ=s64",
      "userId": "16418805035519449193"
     },
     "user_tz": -540
    },
    "id": "D_mMdKcBDgx-",
    "outputId": "5032d80a-a9d6-4f72-d5e8-ba8d14f91210",
    "scrolled": true
   },
   "outputs": [],
   "source": [
    "# 일자 비교를 위해서 요일 컬럼 추가\n",
    "# 1단계 >  bike_ride['대여일시']는 날짜 데이터타입을 가진다.\n",
    "\n",
    "bike_ride['대여일시']"
   ]
  },
  {
   "cell_type": "code",
   "execution_count": null,
   "metadata": {
    "id": "3v3woUAhDgx-"
   },
   "outputs": [],
   "source": [
    "# 일자 비교를 위해서 요일 컬럼 추가\n",
    "# 실습 : 1단계 > bike_ride['대여일시']는 날짜 데이터타입을 가진다.\n",
    "\n"
   ]
  },
  {
   "cell_type": "markdown",
   "metadata": {
    "id": "oz1YALwjckSF"
   },
   "source": [
    "![image.png](data:image/png;base64,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)"
   ]
  },
  {
   "cell_type": "code",
   "execution_count": null,
   "metadata": {
    "colab": {
     "base_uri": "https://localhost:8080/"
    },
    "executionInfo": {
     "elapsed": 792,
     "status": "ok",
     "timestamp": 1620547772353,
     "user": {
      "displayName": "강형주",
      "photoUrl": "https://lh3.googleusercontent.com/a-/AOh14Gio_vb4wFXEbly2-bxLdO794yMb4y9zAxlZ3rlWa33hNwQQ9lW8HxxINXj3YppsQSzDssmoXuWxMT4kbNfm-kP9VJmDH-z_24vC5WPaH22tj9-arErotarZe8bKZFRHdFJqSGUvQq0uU9ULb3xXhUaI4SwNUpVZjaL2QneDfwHvj93sD2tE6J7xQ3sIBiCHQD_zvW2GTKkcyA3-vIggfiKOrdlJUTr63QzYhzBxKklfGnGvgg1YGGuS7WAd8QoRMLad14v1rAIwQS-O9CvU4M5ANqUGUUsTXiygCS9D9zs70SCnb7Kcba-5a0ERSaZ87h90wEyR0Bl2QsK3YP9Z8yXiovwbZHvCFvJbWO_xCGNlMxcQ28iDK1J4bbX-1biYYar8zed7LZa1xGN9dQlFSo7hHKgV1b5MIo3Y0E7P0YtLC_0z1zJHXYeSBC8G1JvDVx5pN04cKcZKL0orLmLVxFk_zvILyPHpbEudwT9axJmUq0NJ4trWrm-TNVUgxu_I_hWPcNSV71dUwYDBh2jlDFdLKm7en6PHkdbc9-TEOvel55_Fgf_CL0mAIu-U5D1ZdBRvw37C5m-FhFY1Su6nbwC3GuvbWlkiujJzVTNuFd5-_-dkZnBHHH8oxh7YtwKBRZcrF1qM8FqU51ZnEFc2bJ-TK_H99e46D0JB28_rM9qYH9tQZyYGszJIlXuzkYKyVTocbiRAzIwbSHxSqBvj9PDe-Pj3Km_Bnxfvw86HVYeZVSu7tNrYFzkVzhkGNhDixattmQ=s64",
      "userId": "16418805035519449193"
     },
     "user_tz": -540
    },
    "id": "xG3QgPj9Dgx-",
    "outputId": "9576207c-3ced-4a60-e3ed-1491d2f02e6d",
    "scrolled": true
   },
   "outputs": [],
   "source": [
    "# 일자 비교를 위해서 요일 컬럼 추가\n",
    "# 2단계 > bike_ride['대여일시']에서 요일을 추출한다. -> 0:월 1:화 2:수 3:목 4:금 5:토 6:일\n",
    "\n",
    "bike_ride['대여일시'].****"
   ]
  },
  {
   "cell_type": "code",
   "execution_count": null,
   "metadata": {
    "id": "-dkVPdiHDgx-"
   },
   "outputs": [],
   "source": [
    "# 일자 비교를 위해서 요일 컬럼 추가\n",
    "# 실습 : 2단계 > bike_ride['대여일시']에서 요일을 추출한다. -> 0:월 1:화 2:수 3:목 4:금 5:토 6:일\n",
    "\n"
   ]
  },
  {
   "cell_type": "markdown",
   "metadata": {
    "id": "w8E5JCnVdA9l"
   },
   "source": [
    "![image.png](data:image/png;base64,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)"
   ]
  },
  {
   "cell_type": "code",
   "execution_count": null,
   "metadata": {
    "colab": {
     "base_uri": "https://localhost:8080/"
    },
    "executionInfo": {
     "elapsed": 1217,
     "status": "ok",
     "timestamp": 1620547865876,
     "user": {
      "displayName": "강형주",
      "photoUrl": "https://lh3.googleusercontent.com/a-/AOh14Gio_vb4wFXEbly2-bxLdO794yMb4y9zAxlZ3rlWa33hNwQQ9lW8HxxINXj3YppsQSzDssmoXuWxMT4kbNfm-kP9VJmDH-z_24vC5WPaH22tj9-arErotarZe8bKZFRHdFJqSGUvQq0uU9ULb3xXhUaI4SwNUpVZjaL2QneDfwHvj93sD2tE6J7xQ3sIBiCHQD_zvW2GTKkcyA3-vIggfiKOrdlJUTr63QzYhzBxKklfGnGvgg1YGGuS7WAd8QoRMLad14v1rAIwQS-O9CvU4M5ANqUGUUsTXiygCS9D9zs70SCnb7Kcba-5a0ERSaZ87h90wEyR0Bl2QsK3YP9Z8yXiovwbZHvCFvJbWO_xCGNlMxcQ28iDK1J4bbX-1biYYar8zed7LZa1xGN9dQlFSo7hHKgV1b5MIo3Y0E7P0YtLC_0z1zJHXYeSBC8G1JvDVx5pN04cKcZKL0orLmLVxFk_zvILyPHpbEudwT9axJmUq0NJ4trWrm-TNVUgxu_I_hWPcNSV71dUwYDBh2jlDFdLKm7en6PHkdbc9-TEOvel55_Fgf_CL0mAIu-U5D1ZdBRvw37C5m-FhFY1Su6nbwC3GuvbWlkiujJzVTNuFd5-_-dkZnBHHH8oxh7YtwKBRZcrF1qM8FqU51ZnEFc2bJ-TK_H99e46D0JB28_rM9qYH9tQZyYGszJIlXuzkYKyVTocbiRAzIwbSHxSqBvj9PDe-Pj3Km_Bnxfvw86HVYeZVSu7tNrYFzkVzhkGNhDixattmQ=s64",
      "userId": "16418805035519449193"
     },
     "user_tz": -540
    },
    "id": "k0PoFmUnDgx-",
    "outputId": "ee9d8532-f363-4b0c-d052-49739af4ce3f",
    "scrolled": true
   },
   "outputs": [],
   "source": [
    "# 일자 비교를 위해서 요일 컬럼 추가\n",
    "# 3단계 : apply 명령어와 lambda함수를 사용하여 0~6값을 월~일 값으로 변환시킨다.\n",
    "\n",
    "bike_ride['대여일시'].dt.dayofweek.apply( **** )"
   ]
  },
  {
   "cell_type": "code",
   "execution_count": null,
   "metadata": {
    "id": "-XXMqoGoDgx-"
   },
   "outputs": [],
   "source": [
    "# 일자 비교를 위해서 요일 컬럼 추가\n",
    "# 실습 : 3단계 > apply 명령어와 lambda함수를 사용하여 0~6값을 월~일 값으로 변환시킨다.\n",
    "\n"
   ]
  },
  {
   "cell_type": "code",
   "execution_count": null,
   "metadata": {
    "colab": {
     "base_uri": "https://localhost:8080/"
    },
    "executionInfo": {
     "elapsed": 1451,
     "status": "ok",
     "timestamp": 1620547887181,
     "user": {
      "displayName": "강형주",
      "photoUrl": "https://lh3.googleusercontent.com/a-/AOh14Gio_vb4wFXEbly2-bxLdO794yMb4y9zAxlZ3rlWa33hNwQQ9lW8HxxINXj3YppsQSzDssmoXuWxMT4kbNfm-kP9VJmDH-z_24vC5WPaH22tj9-arErotarZe8bKZFRHdFJqSGUvQq0uU9ULb3xXhUaI4SwNUpVZjaL2QneDfwHvj93sD2tE6J7xQ3sIBiCHQD_zvW2GTKkcyA3-vIggfiKOrdlJUTr63QzYhzBxKklfGnGvgg1YGGuS7WAd8QoRMLad14v1rAIwQS-O9CvU4M5ANqUGUUsTXiygCS9D9zs70SCnb7Kcba-5a0ERSaZ87h90wEyR0Bl2QsK3YP9Z8yXiovwbZHvCFvJbWO_xCGNlMxcQ28iDK1J4bbX-1biYYar8zed7LZa1xGN9dQlFSo7hHKgV1b5MIo3Y0E7P0YtLC_0z1zJHXYeSBC8G1JvDVx5pN04cKcZKL0orLmLVxFk_zvILyPHpbEudwT9axJmUq0NJ4trWrm-TNVUgxu_I_hWPcNSV71dUwYDBh2jlDFdLKm7en6PHkdbc9-TEOvel55_Fgf_CL0mAIu-U5D1ZdBRvw37C5m-FhFY1Su6nbwC3GuvbWlkiujJzVTNuFd5-_-dkZnBHHH8oxh7YtwKBRZcrF1qM8FqU51ZnEFc2bJ-TK_H99e46D0JB28_rM9qYH9tQZyYGszJIlXuzkYKyVTocbiRAzIwbSHxSqBvj9PDe-Pj3Km_Bnxfvw86HVYeZVSu7tNrYFzkVzhkGNhDixattmQ=s64",
      "userId": "16418805035519449193"
     },
     "user_tz": -540
    },
    "id": "ODoKoxqbDgx_",
    "outputId": "c0533fa1-710b-4651-f109-7207eed79f68"
   },
   "outputs": [],
   "source": [
    "# 일자 비교를 위해서 요일 컬럼 추가\n",
    "# 4단계 > bike_ride에 새로운 컬럼인 '요일'을 추가한다.\n",
    "\n",
    "bike_ride['요일'] = bike_ride['대여일시'].dt.dayofweek.apply(lambda x: 요일[x])\n",
    "bike_ride['요일']"
   ]
  },
  {
   "cell_type": "code",
   "execution_count": null,
   "metadata": {
    "id": "HkUyVPezPKpt"
   },
   "outputs": [],
   "source": [
    "# 일자 비교를 위해서 요일 컬럼 추가\n",
    "# 실습 : 4단계 > bike_ride에 새로운 컬럼인 '요일'을 추가한다.\n",
    "\n"
   ]
  },
  {
   "cell_type": "code",
   "execution_count": null,
   "metadata": {
    "colab": {
     "base_uri": "https://localhost:8080/",
     "height": 204
    },
    "executionInfo": {
     "elapsed": 726,
     "status": "ok",
     "timestamp": 1620547895811,
     "user": {
      "displayName": "강형주",
      "photoUrl": "https://lh3.googleusercontent.com/a-/AOh14Gio_vb4wFXEbly2-bxLdO794yMb4y9zAxlZ3rlWa33hNwQQ9lW8HxxINXj3YppsQSzDssmoXuWxMT4kbNfm-kP9VJmDH-z_24vC5WPaH22tj9-arErotarZe8bKZFRHdFJqSGUvQq0uU9ULb3xXhUaI4SwNUpVZjaL2QneDfwHvj93sD2tE6J7xQ3sIBiCHQD_zvW2GTKkcyA3-vIggfiKOrdlJUTr63QzYhzBxKklfGnGvgg1YGGuS7WAd8QoRMLad14v1rAIwQS-O9CvU4M5ANqUGUUsTXiygCS9D9zs70SCnb7Kcba-5a0ERSaZ87h90wEyR0Bl2QsK3YP9Z8yXiovwbZHvCFvJbWO_xCGNlMxcQ28iDK1J4bbX-1biYYar8zed7LZa1xGN9dQlFSo7hHKgV1b5MIo3Y0E7P0YtLC_0z1zJHXYeSBC8G1JvDVx5pN04cKcZKL0orLmLVxFk_zvILyPHpbEudwT9axJmUq0NJ4trWrm-TNVUgxu_I_hWPcNSV71dUwYDBh2jlDFdLKm7en6PHkdbc9-TEOvel55_Fgf_CL0mAIu-U5D1ZdBRvw37C5m-FhFY1Su6nbwC3GuvbWlkiujJzVTNuFd5-_-dkZnBHHH8oxh7YtwKBRZcrF1qM8FqU51ZnEFc2bJ-TK_H99e46D0JB28_rM9qYH9tQZyYGszJIlXuzkYKyVTocbiRAzIwbSHxSqBvj9PDe-Pj3Km_Bnxfvw86HVYeZVSu7tNrYFzkVzhkGNhDixattmQ=s64",
      "userId": "16418805035519449193"
     },
     "user_tz": -540
    },
    "id": "a_MUjvwUDgx_",
    "outputId": "f5bd3db4-c4ab-439c-cf06-8365f8d25803"
   },
   "outputs": [],
   "source": [
    "# 일자 비교를 위해서 요일 컬럼 추가\n",
    "# bike_ride에 '요일'컬럼이 추가된 것을 확인한다.\n",
    "\n",
    "bike_ride.head()"
   ]
  },
  {
   "cell_type": "code",
   "execution_count": null,
   "metadata": {
    "id": "nWizEPnmDgx_"
   },
   "outputs": [],
   "source": [
    "# 일자 비교를 위해서 요일 컬럼 추가\n",
    "# 실습 : bike_ride에 '요일'컬럼이 추가된 것을 확인한다.\n",
    "\n"
   ]
  },
  {
   "cell_type": "code",
   "execution_count": null,
   "metadata": {
    "executionInfo": {
     "elapsed": 1843,
     "status": "ok",
     "timestamp": 1620547989109,
     "user": {
      "displayName": "강형주",
      "photoUrl": "https://lh3.googleusercontent.com/a-/AOh14Gio_vb4wFXEbly2-bxLdO794yMb4y9zAxlZ3rlWa33hNwQQ9lW8HxxINXj3YppsQSzDssmoXuWxMT4kbNfm-kP9VJmDH-z_24vC5WPaH22tj9-arErotarZe8bKZFRHdFJqSGUvQq0uU9ULb3xXhUaI4SwNUpVZjaL2QneDfwHvj93sD2tE6J7xQ3sIBiCHQD_zvW2GTKkcyA3-vIggfiKOrdlJUTr63QzYhzBxKklfGnGvgg1YGGuS7WAd8QoRMLad14v1rAIwQS-O9CvU4M5ANqUGUUsTXiygCS9D9zs70SCnb7Kcba-5a0ERSaZ87h90wEyR0Bl2QsK3YP9Z8yXiovwbZHvCFvJbWO_xCGNlMxcQ28iDK1J4bbX-1biYYar8zed7LZa1xGN9dQlFSo7hHKgV1b5MIo3Y0E7P0YtLC_0z1zJHXYeSBC8G1JvDVx5pN04cKcZKL0orLmLVxFk_zvILyPHpbEudwT9axJmUq0NJ4trWrm-TNVUgxu_I_hWPcNSV71dUwYDBh2jlDFdLKm7en6PHkdbc9-TEOvel55_Fgf_CL0mAIu-U5D1ZdBRvw37C5m-FhFY1Su6nbwC3GuvbWlkiujJzVTNuFd5-_-dkZnBHHH8oxh7YtwKBRZcrF1qM8FqU51ZnEFc2bJ-TK_H99e46D0JB28_rM9qYH9tQZyYGszJIlXuzkYKyVTocbiRAzIwbSHxSqBvj9PDe-Pj3Km_Bnxfvw86HVYeZVSu7tNrYFzkVzhkGNhDixattmQ=s64",
      "userId": "16418805035519449193"
     },
     "user_tz": -540
    },
    "id": "NgBZOxX8DgyA"
   },
   "outputs": [],
   "source": [
    "# 주중/주말공휴일 구분\n",
    "bike_ride['주말구분'] = bike_ride['대여일시'].dt.dayofweek.apply(\\\n",
    "                                lambda x : '평일' if x < 5 else '주말')\n",
    "\n",
    "# 일자 컬럼 추가\n",
    "bike_ride['일자'] = bike_ride['대여일시'].dt.day\n",
    "\n",
    "# 대여시간대와 반납시간대 컬럼 추가\n",
    "bike_ride['대여시간대'] = bike_ride['대여일시'].dt.hour\n",
    "bike_ride['반납시간대'] =  bike_ride['반납일시'].dt.hour"
   ]
  },
  {
   "cell_type": "code",
   "execution_count": null,
   "metadata": {
    "colab": {
     "base_uri": "https://localhost:8080/",
     "height": 306
    },
    "executionInfo": {
     "elapsed": 896,
     "status": "ok",
     "timestamp": 1620547996810,
     "user": {
      "displayName": "강형주",
      "photoUrl": "https://lh3.googleusercontent.com/a-/AOh14Gio_vb4wFXEbly2-bxLdO794yMb4y9zAxlZ3rlWa33hNwQQ9lW8HxxINXj3YppsQSzDssmoXuWxMT4kbNfm-kP9VJmDH-z_24vC5WPaH22tj9-arErotarZe8bKZFRHdFJqSGUvQq0uU9ULb3xXhUaI4SwNUpVZjaL2QneDfwHvj93sD2tE6J7xQ3sIBiCHQD_zvW2GTKkcyA3-vIggfiKOrdlJUTr63QzYhzBxKklfGnGvgg1YGGuS7WAd8QoRMLad14v1rAIwQS-O9CvU4M5ANqUGUUsTXiygCS9D9zs70SCnb7Kcba-5a0ERSaZ87h90wEyR0Bl2QsK3YP9Z8yXiovwbZHvCFvJbWO_xCGNlMxcQ28iDK1J4bbX-1biYYar8zed7LZa1xGN9dQlFSo7hHKgV1b5MIo3Y0E7P0YtLC_0z1zJHXYeSBC8G1JvDVx5pN04cKcZKL0orLmLVxFk_zvILyPHpbEudwT9axJmUq0NJ4trWrm-TNVUgxu_I_hWPcNSV71dUwYDBh2jlDFdLKm7en6PHkdbc9-TEOvel55_Fgf_CL0mAIu-U5D1ZdBRvw37C5m-FhFY1Su6nbwC3GuvbWlkiujJzVTNuFd5-_-dkZnBHHH8oxh7YtwKBRZcrF1qM8FqU51ZnEFc2bJ-TK_H99e46D0JB28_rM9qYH9tQZyYGszJIlXuzkYKyVTocbiRAzIwbSHxSqBvj9PDe-Pj3Km_Bnxfvw86HVYeZVSu7tNrYFzkVzhkGNhDixattmQ=s64",
      "userId": "16418805035519449193"
     },
     "user_tz": -540
    },
    "id": "4Ar6qLcuDgyA",
    "outputId": "0a6e93a9-505e-49e2-9984-d3befd0f5696"
   },
   "outputs": [],
   "source": [
    "# 위에서 만든 시간개념 컬럼들이 추가된 bike_ride 데이터프레임을 살펴본다.\n",
    "\n",
    "bike_ride.head()"
   ]
  },
  {
   "cell_type": "code",
   "execution_count": null,
   "metadata": {
    "id": "DShctv6ueELI"
   },
   "outputs": [],
   "source": [
    "실습 : # 위에서 만든 시간개념 컬럼들이 추가된 bike_ride 데이터프레임을 살펴본다.\n"
   ]
  }
 ],
 "metadata": {
  "colab": {
   "collapsed_sections": [
    "vb4vrrr7JiTc",
    "5csM5pXYKhik"
   ],
   "name": "Day05_bike_analysis_day1.ipynb",
   "provenance": [
    {
     "file_id": "https://github.com/sagelab4data/first_da_2021_1/blob/main/Day05_bike_day1.ipynb",
     "timestamp": 1620545216374
    },
    {
     "file_id": "https://github.com/sagelab4data/first_da_2021_1/blob/main/Day05_bike_day1.ipynb",
     "timestamp": 1620487645877
    },
    {
     "file_id": "https://github.com/gladie4sage/myfiles/blob/main/bike_day1_f.ipynb",
     "timestamp": 1614911850806
    }
   ],
   "toc_visible": true
  },
  "kernelspec": {
   "display_name": "Python 3",
   "language": "python",
   "name": "python3"
  },
  "language_info": {
   "codemirror_mode": {
    "name": "ipython",
    "version": 3
   },
   "file_extension": ".py",
   "mimetype": "text/x-python",
   "name": "python",
   "nbconvert_exporter": "python",
   "pygments_lexer": "ipython3",
   "version": "3.8.3"
  }
 },
 "nbformat": 4,
 "nbformat_minor": 1
}
